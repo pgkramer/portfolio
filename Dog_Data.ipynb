{
  "nbformat": 4,
  "nbformat_minor": 0,
  "metadata": {
    "colab": {
      "name": "Dog Data",
      "provenance": [],
      "include_colab_link": true
    },
    "kernelspec": {
      "name": "python3",
      "display_name": "Python 3"
    }
  },
  "cells": [
    {
      "cell_type": "markdown",
      "metadata": {
        "id": "view-in-github",
        "colab_type": "text"
      },
      "source": [
        "<a href=\"https://colab.research.google.com/github/pgkramer/portfolio/blob/master/Dog_Data.ipynb\" target=\"_parent\"><img src=\"https://colab.research.google.com/assets/colab-badge.svg\" alt=\"Open In Colab\"/></a>"
      ]
    },
    {
      "cell_type": "code",
      "metadata": {
        "id": "tvcxN5qff4bn",
        "colab_type": "code",
        "colab": {}
      },
      "source": [
        "import pandas as pd\n",
        "import numpy as np\n",
        "from bokeh.plotting import figure, output_file, show\n",
        "import seaborn as sns\n",
        "import matplotlib.pyplot as plt"
      ],
      "execution_count": 0,
      "outputs": []
    },
    {
      "cell_type": "code",
      "metadata": {
        "id": "XKu0-IR2hty7",
        "colab_type": "code",
        "colab": {
          "base_uri": "https://localhost:8080/",
          "height": 34
        },
        "outputId": "59eaf79d-ca6c-40ff-94f6-d37d10cdf83c"
      },
      "source": [
        "from google.colab import drive\n",
        "drive.mount('/content/drive')"
      ],
      "execution_count": 2,
      "outputs": [
        {
          "output_type": "stream",
          "text": [
            "Drive already mounted at /content/drive; to attempt to forcibly remount, call drive.mount(\"/content/drive\", force_remount=True).\n"
          ],
          "name": "stdout"
        }
      ]
    },
    {
      "cell_type": "markdown",
      "metadata": {
        "id": "3iOZcLdCiJEr",
        "colab_type": "text"
      },
      "source": [
        "####Overview\n",
        "The purpose of this exercise is to demonstrate my ability to clean, interpret, and visualize a dataset. \n",
        "\n",
        "\n",
        "\n",
        "####Data Synopsis\n",
        "All dog owners residing in NYC are required by law to license their dogs. The data is sourced from the DOHMH Dog Licensing System (https://a816-healthpsi.nyc.gov/DogLicense), where owners can apply for and renew dog licenses. Each record stands as a unique license period for a dog over the course of the yearlong time frame. For more information, see: https://data.cityofnewyork.us/d/nu7n-tubp\n"
      ]
    },
    {
      "cell_type": "code",
      "metadata": {
        "id": "hGAuROpFiGUM",
        "colab_type": "code",
        "colab": {}
      },
      "source": [
        "dog_data = pd.read_csv(\"/content/drive/My Drive/Colab Notebooks/dog_data.csv\")"
      ],
      "execution_count": 0,
      "outputs": []
    },
    {
      "cell_type": "code",
      "metadata": {
        "id": "NvMexzxylUI1",
        "colab_type": "code",
        "colab": {
          "base_uri": "https://localhost:8080/",
          "height": 204
        },
        "outputId": "989eb92d-c624-4612-8c39-84d7b575b1a0"
      },
      "source": [
        "dog_data.head()"
      ],
      "execution_count": 4,
      "outputs": [
        {
          "output_type": "execute_result",
          "data": {
            "text/html": [
              "<div>\n",
              "<style scoped>\n",
              "    .dataframe tbody tr th:only-of-type {\n",
              "        vertical-align: middle;\n",
              "    }\n",
              "\n",
              "    .dataframe tbody tr th {\n",
              "        vertical-align: top;\n",
              "    }\n",
              "\n",
              "    .dataframe thead th {\n",
              "        text-align: right;\n",
              "    }\n",
              "</style>\n",
              "<table border=\"1\" class=\"dataframe\">\n",
              "  <thead>\n",
              "    <tr style=\"text-align: right;\">\n",
              "      <th></th>\n",
              "      <th>rownumber</th>\n",
              "      <th>animalname</th>\n",
              "      <th>animalgender</th>\n",
              "      <th>breedname</th>\n",
              "      <th>borough</th>\n",
              "      <th>statesenatorialdistrict</th>\n",
              "    </tr>\n",
              "  </thead>\n",
              "  <tbody>\n",
              "    <tr>\n",
              "      <th>0</th>\n",
              "      <td>1753</td>\n",
              "      <td>SHADOW</td>\n",
              "      <td>M</td>\n",
              "      <td>Beagle</td>\n",
              "      <td>Brooklyn</td>\n",
              "      <td>19.0</td>\n",
              "    </tr>\n",
              "    <tr>\n",
              "      <th>1</th>\n",
              "      <td>2415</td>\n",
              "      <td>ROCCO</td>\n",
              "      <td>M</td>\n",
              "      <td>Boxer</td>\n",
              "      <td>Brooklyn</td>\n",
              "      <td>17.0</td>\n",
              "    </tr>\n",
              "    <tr>\n",
              "      <th>2</th>\n",
              "      <td>3328</td>\n",
              "      <td>LUIGI</td>\n",
              "      <td>M</td>\n",
              "      <td>Maltese</td>\n",
              "      <td>Bronx</td>\n",
              "      <td>34.0</td>\n",
              "    </tr>\n",
              "    <tr>\n",
              "      <th>3</th>\n",
              "      <td>7537</td>\n",
              "      <td>PETUNIA</td>\n",
              "      <td>F</td>\n",
              "      <td>Pug</td>\n",
              "      <td>Brooklyn</td>\n",
              "      <td>18.0</td>\n",
              "    </tr>\n",
              "    <tr>\n",
              "      <th>4</th>\n",
              "      <td>8487</td>\n",
              "      <td>ROMEO</td>\n",
              "      <td>M</td>\n",
              "      <td>Maltese</td>\n",
              "      <td>Bronx</td>\n",
              "      <td>32.0</td>\n",
              "    </tr>\n",
              "  </tbody>\n",
              "</table>\n",
              "</div>"
            ],
            "text/plain": [
              "   rownumber animalname  ...   borough statesenatorialdistrict\n",
              "0       1753     SHADOW  ...  Brooklyn                    19.0\n",
              "1       2415      ROCCO  ...  Brooklyn                    17.0\n",
              "2       3328      LUIGI  ...     Bronx                    34.0\n",
              "3       7537    PETUNIA  ...  Brooklyn                    18.0\n",
              "4       8487      ROMEO  ...     Bronx                    32.0\n",
              "\n",
              "[5 rows x 6 columns]"
            ]
          },
          "metadata": {
            "tags": []
          },
          "execution_count": 4
        }
      ]
    },
    {
      "cell_type": "code",
      "metadata": {
        "id": "8qRzGw16mOxr",
        "colab_type": "code",
        "colab": {}
      },
      "source": [
        "#Convert observations to title case \n",
        "dog_data[\"animalname\"] = dog_data[\"animalname\"].str.title()\n",
        "dog_data['borough'] = dog_data['borough'].str.title()"
      ],
      "execution_count": 0,
      "outputs": []
    },
    {
      "cell_type": "code",
      "metadata": {
        "id": "tJmbz71coVQX",
        "colab_type": "code",
        "colab": {
          "base_uri": "https://localhost:8080/",
          "height": 136
        },
        "outputId": "4df13f0b-b591-4993-acf2-5838f2e764e0"
      },
      "source": [
        "dog_data.dtypes"
      ],
      "execution_count": 6,
      "outputs": [
        {
          "output_type": "execute_result",
          "data": {
            "text/plain": [
              "rownumber                    int64\n",
              "animalname                  object\n",
              "animalgender                object\n",
              "breedname                   object\n",
              "borough                     object\n",
              "statesenatorialdistrict    float64\n",
              "dtype: object"
            ]
          },
          "metadata": {
            "tags": []
          },
          "execution_count": 6
        }
      ]
    },
    {
      "cell_type": "code",
      "metadata": {
        "id": "ipuyybU-ocLn",
        "colab_type": "code",
        "colab": {
          "base_uri": "https://localhost:8080/",
          "height": 136
        },
        "outputId": "b3c25b92-be51-4baa-cbc4-0c891eaa95e3"
      },
      "source": [
        "#Find missing values\n",
        "\n",
        "dog_data.isnull().sum()"
      ],
      "execution_count": 7,
      "outputs": [
        {
          "output_type": "execute_result",
          "data": {
            "text/plain": [
              "rownumber                     0\n",
              "animalname                  246\n",
              "animalgender                  5\n",
              "breedname                     0\n",
              "borough                       0\n",
              "statesenatorialdistrict    2895\n",
              "dtype: int64"
            ]
          },
          "metadata": {
            "tags": []
          },
          "execution_count": 7
        }
      ]
    },
    {
      "cell_type": "code",
      "metadata": {
        "id": "XAXNrHl5s4MN",
        "colab_type": "code",
        "colab": {}
      },
      "source": [
        "#Drop null values and reset index\n",
        "dog_data.dropna(inplace=True)\n",
        "dog_data.isnull().sum()\n",
        "dog_data.reset_index(inplace=True)"
      ],
      "execution_count": 0,
      "outputs": []
    },
    {
      "cell_type": "code",
      "metadata": {
        "id": "AlkRAaoip2Ob",
        "colab_type": "code",
        "colab": {}
      },
      "source": [
        "#Convert senatorial district to integer, rename columns for legibility \n",
        "dog_data.statesenatorialdistrict = dog_data.statesenatorialdistrict.astype(int)\n",
        "dog_data.rename(columns={'rownumber':'row','animalname':'name', 'animalgender': 'gender','breedname':'breed','statesenatorialdistrict':'district'}, inplace=True)"
      ],
      "execution_count": 0,
      "outputs": []
    },
    {
      "cell_type": "code",
      "metadata": {
        "id": "NT2MKdg2jzWA",
        "colab_type": "code",
        "colab": {
          "base_uri": "https://localhost:8080/",
          "height": 119
        },
        "outputId": "65b67c0c-2c6b-4866-a47e-f86591049d9b"
      },
      "source": [
        "print(\"There are {} observations and {} features in this dataset. \\n\".format(dog_data.shape[0],dog_data.shape[1]))\n",
        "\n",
        "print(\"There are {} types of dogs in this dataset such as {}... \\n\".format(len(dog_data.breed.unique()),\n",
        "                                                                           \", \".join(dog_data.breed.unique()[0:5])))\n",
        "\n",
        "print(\"There are {} unique dog names in this dataset such as {}... \\n\".format(len(dog_data.name.unique()),\n",
        "                                                                                      \", \".join(dog_data.name.unique()[0:5])))"
      ],
      "execution_count": 10,
      "outputs": [
        {
          "output_type": "stream",
          "text": [
            "There are 102050 observations and 7 features in this dataset. \n",
            "\n",
            "There are 298 types of dogs in this dataset such as Beagle, Boxer, Maltese, Pug, Chihuahua... \n",
            "\n",
            "There are 15121 unique dog names in this dataset such as Shadow, Rocco, Luigi, Petunia, Romeo... \n",
            "\n"
          ],
          "name": "stdout"
        }
      ]
    },
    {
      "cell_type": "code",
      "metadata": {
        "id": "ozrTN-Ft5qdy",
        "colab_type": "code",
        "colab": {
          "base_uri": "https://localhost:8080/",
          "height": 204
        },
        "outputId": "d06441fd-014d-41a2-ea2d-c88930e020dd"
      },
      "source": [
        "dog_data.head()"
      ],
      "execution_count": 11,
      "outputs": [
        {
          "output_type": "execute_result",
          "data": {
            "text/html": [
              "<div>\n",
              "<style scoped>\n",
              "    .dataframe tbody tr th:only-of-type {\n",
              "        vertical-align: middle;\n",
              "    }\n",
              "\n",
              "    .dataframe tbody tr th {\n",
              "        vertical-align: top;\n",
              "    }\n",
              "\n",
              "    .dataframe thead th {\n",
              "        text-align: right;\n",
              "    }\n",
              "</style>\n",
              "<table border=\"1\" class=\"dataframe\">\n",
              "  <thead>\n",
              "    <tr style=\"text-align: right;\">\n",
              "      <th></th>\n",
              "      <th>index</th>\n",
              "      <th>row</th>\n",
              "      <th>name</th>\n",
              "      <th>gender</th>\n",
              "      <th>breed</th>\n",
              "      <th>borough</th>\n",
              "      <th>district</th>\n",
              "    </tr>\n",
              "  </thead>\n",
              "  <tbody>\n",
              "    <tr>\n",
              "      <th>0</th>\n",
              "      <td>0</td>\n",
              "      <td>1753</td>\n",
              "      <td>Shadow</td>\n",
              "      <td>M</td>\n",
              "      <td>Beagle</td>\n",
              "      <td>Brooklyn</td>\n",
              "      <td>19</td>\n",
              "    </tr>\n",
              "    <tr>\n",
              "      <th>1</th>\n",
              "      <td>1</td>\n",
              "      <td>2415</td>\n",
              "      <td>Rocco</td>\n",
              "      <td>M</td>\n",
              "      <td>Boxer</td>\n",
              "      <td>Brooklyn</td>\n",
              "      <td>17</td>\n",
              "    </tr>\n",
              "    <tr>\n",
              "      <th>2</th>\n",
              "      <td>2</td>\n",
              "      <td>3328</td>\n",
              "      <td>Luigi</td>\n",
              "      <td>M</td>\n",
              "      <td>Maltese</td>\n",
              "      <td>Bronx</td>\n",
              "      <td>34</td>\n",
              "    </tr>\n",
              "    <tr>\n",
              "      <th>3</th>\n",
              "      <td>3</td>\n",
              "      <td>7537</td>\n",
              "      <td>Petunia</td>\n",
              "      <td>F</td>\n",
              "      <td>Pug</td>\n",
              "      <td>Brooklyn</td>\n",
              "      <td>18</td>\n",
              "    </tr>\n",
              "    <tr>\n",
              "      <th>4</th>\n",
              "      <td>4</td>\n",
              "      <td>8487</td>\n",
              "      <td>Romeo</td>\n",
              "      <td>M</td>\n",
              "      <td>Maltese</td>\n",
              "      <td>Bronx</td>\n",
              "      <td>32</td>\n",
              "    </tr>\n",
              "  </tbody>\n",
              "</table>\n",
              "</div>"
            ],
            "text/plain": [
              "   index   row     name gender    breed   borough  district\n",
              "0      0  1753   Shadow      M   Beagle  Brooklyn        19\n",
              "1      1  2415    Rocco      M    Boxer  Brooklyn        17\n",
              "2      2  3328    Luigi      M  Maltese     Bronx        34\n",
              "3      3  7537  Petunia      F      Pug  Brooklyn        18\n",
              "4      4  8487    Romeo      M  Maltese     Bronx        32"
            ]
          },
          "metadata": {
            "tags": []
          },
          "execution_count": 11
        }
      ]
    },
    {
      "cell_type": "code",
      "metadata": {
        "id": "DKv6CaF8_Si1",
        "colab_type": "code",
        "colab": {
          "base_uri": "https://localhost:8080/",
          "height": 221
        },
        "outputId": "41988ca5-4d8d-4aea-bd43-8ab266b45002"
      },
      "source": [
        "#Looks like many did not include the dog's name, but the most popular of the ones that did are \"Bella\", \"Max\", and \"Charlie\" \n",
        "dog_data['name'].value_counts()"
      ],
      "execution_count": 12,
      "outputs": [
        {
          "output_type": "execute_result",
          "data": {
            "text/plain": [
              "Unknown              2238\n",
              "Name Not Provided    1498\n",
              "Bella                1125\n",
              "Max                  1049\n",
              "Charlie               833\n",
              "                     ... \n",
              "Bowey                   1\n",
              "Splashy                 1\n",
              "Fiolry                  1\n",
              "Shabby                  1\n",
              "Jaxsyn                  1\n",
              "Name: name, Length: 15121, dtype: int64"
            ]
          },
          "metadata": {
            "tags": []
          },
          "execution_count": 12
        }
      ]
    },
    {
      "cell_type": "code",
      "metadata": {
        "id": "v1I2ezr-CfiP",
        "colab_type": "code",
        "colab": {
          "base_uri": "https://localhost:8080/",
          "height": 663
        },
        "outputId": "556e155e-de7d-4868-cc8d-54513e78c66b"
      },
      "source": [
        "#The borough data is challenging to work with. Will rename the \"Staten Is\" cases to \"Staten Island\" and drop the rest as outliers. \n",
        "dog_data['borough'].value_counts()"
      ],
      "execution_count": 13,
      "outputs": [
        {
          "output_type": "execute_result",
          "data": {
            "text/plain": [
              "Manhattan             36006\n",
              "Brooklyn              25500\n",
              "Queens                20669\n",
              "Bronx                 10667\n",
              "Staten Island          8914\n",
              "Staten Is               198\n",
              "New York                 49\n",
              "Astoria                   4\n",
              "Jackson Heights           3\n",
              "Kew Gardens               3\n",
              "Elmhurst                  3\n",
              "Flushing                  3\n",
              "Briarwood                 2\n",
              "Rockaway Park             2\n",
              "Ozone Park                2\n",
              "Corona                    2\n",
              "Woodside                  2\n",
              "Fresh Meadows             2\n",
              "Glendale                  1\n",
              "College Point             1\n",
              "Bayside                   1\n",
              "Ridgewood                 1\n",
              "Forest Hills              1\n",
              "Arverne                   1\n",
              "Quens                     1\n",
              "Nyc                       1\n",
              "Woodside Ny.              1\n",
              "Long Island City          1\n",
              "Staten Island, Ny         1\n",
              "B                         1\n",
              "East Elmhurst             1\n",
              "South Richmond Hil        1\n",
              "Oakland Gardens           1\n",
              "Richmond Hill             1\n",
              "Glen Oaks                 1\n",
              "Floral Park               1\n",
              "Cambria Heights           1\n",
              "Name: borough, dtype: int64"
            ]
          },
          "metadata": {
            "tags": []
          },
          "execution_count": 13
        }
      ]
    },
    {
      "cell_type": "code",
      "metadata": {
        "id": "HaLqsO7YECrT",
        "colab_type": "code",
        "colab": {
          "base_uri": "https://localhost:8080/",
          "height": 221
        },
        "outputId": "33c1b69a-5715-47b0-a28a-04a84bde2be4"
      },
      "source": [
        "dog_data['borough'].replace({'Staten Is': 'Staten Island'})"
      ],
      "execution_count": 17,
      "outputs": [
        {
          "output_type": "execute_result",
          "data": {
            "text/plain": [
              "0              Brooklyn\n",
              "1              Brooklyn\n",
              "2                 Bronx\n",
              "3              Brooklyn\n",
              "4                 Bronx\n",
              "              ...      \n",
              "102045           Queens\n",
              "102046        Manhattan\n",
              "102047         Brooklyn\n",
              "102048    Staten Island\n",
              "102049            Bronx\n",
              "Name: borough, Length: 102050, dtype: object"
            ]
          },
          "metadata": {
            "tags": []
          },
          "execution_count": 17
        }
      ]
    },
    {
      "cell_type": "code",
      "metadata": {
        "id": "rOmvmHuZFFhy",
        "colab_type": "code",
        "colab": {}
      },
      "source": [
        "fiveboroughs = ['Brooklyn','Manhattan', 'Bronx', 'Staten Island','Queens']\n",
        "dog_data = dog_data[dog_data.borough.isin(fiveboroughs)]"
      ],
      "execution_count": 0,
      "outputs": []
    },
    {
      "cell_type": "code",
      "metadata": {
        "id": "_6DBuTl9HtyE",
        "colab_type": "code",
        "colab": {
          "base_uri": "https://localhost:8080/",
          "height": 119
        },
        "outputId": "7b5daa65-4be2-48ed-93f3-093d01783248"
      },
      "source": [
        "dog_data['borough'].value_counts()"
      ],
      "execution_count": 37,
      "outputs": [
        {
          "output_type": "execute_result",
          "data": {
            "text/plain": [
              "Manhattan        36006\n",
              "Brooklyn         25500\n",
              "Queens           20669\n",
              "Bronx            10667\n",
              "Staten Island     8914\n",
              "Name: borough, dtype: int64"
            ]
          },
          "metadata": {
            "tags": []
          },
          "execution_count": 37
        }
      ]
    },
    {
      "cell_type": "code",
      "metadata": {
        "id": "t4MAERfK-fnn",
        "colab_type": "code",
        "colab": {}
      },
      "source": [
        "names = dog_data['name']\n",
        "genders = dog_data['gender']\n",
        "breeds = dog_data['breed']\n",
        "boroughs = dog_data['borough']\n",
        "districts = dog_data['district']"
      ],
      "execution_count": 0,
      "outputs": []
    },
    {
      "cell_type": "code",
      "metadata": {
        "id": "HHO6LzdSBN-J",
        "colab_type": "code",
        "colab": {
          "base_uri": "https://localhost:8080/",
          "height": 602
        },
        "outputId": "a742a718-97c0-410a-a8e4-fa26b143102e"
      },
      "source": [
        "#Plotting a distribution of dog genders by borough \n",
        "\n",
        "sns.catplot(x=\"borough\", hue=\"gender\", kind=\"count\",\n",
        "            palette=\"colorblind\", edgecolor=\".6\",  height=5.5, aspect=1.5,\n",
        "            data=dog_data)\n",
        "plt.title(\"Dog Gender by Borough\")"
      ],
      "execution_count": 57,
      "outputs": [
        {
          "output_type": "error",
          "ename": "AttributeError",
          "evalue": "ignored",
          "traceback": [
            "\u001b[0;31m---------------------------------------------------------------------------\u001b[0m",
            "\u001b[0;31mAttributeError\u001b[0m                            Traceback (most recent call last)",
            "\u001b[0;32m<ipython-input-57-2962715e0bfa>\u001b[0m in \u001b[0;36m<module>\u001b[0;34m()\u001b[0m\n\u001b[1;32m      4\u001b[0m             data=dog_data)\n\u001b[1;32m      5\u001b[0m \u001b[0mplt\u001b[0m\u001b[0;34m.\u001b[0m\u001b[0mtitle\u001b[0m\u001b[0;34m(\u001b[0m\u001b[0;34m\"Dog Gender by Borough\"\u001b[0m\u001b[0;34m)\u001b[0m\u001b[0;34m\u001b[0m\u001b[0;34m\u001b[0m\u001b[0m\n\u001b[0;32m----> 6\u001b[0;31m \u001b[0mplt\u001b[0m\u001b[0;34m.\u001b[0m\u001b[0myaxis\u001b[0m\u001b[0;34m.\u001b[0m\u001b[0mlabelpad\u001b[0m \u001b[0;34m=\u001b[0m \u001b[0;36m25\u001b[0m\u001b[0;34m\u001b[0m\u001b[0;34m\u001b[0m\u001b[0m\n\u001b[0m",
            "\u001b[0;31mAttributeError\u001b[0m: module 'matplotlib.pyplot' has no attribute 'yaxis'"
          ]
        },
        {
          "output_type": "display_data",
          "data": {
            "image/png": "[encoded data removed]",
            "text/plain": [
              "<Figure size 638.625x396 with 1 Axes>"
            ]
          },
          "metadata": {
            "tags": []
          }
        }
      ]
    }
  ]
}