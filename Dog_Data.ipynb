{
  "nbformat": 4,
  "nbformat_minor": 0,
  "metadata": {
    "colab": {
      "name": "Dog Data",
      "provenance": [],
      "collapsed_sections": [],
      "include_colab_link": true
    },
    "kernelspec": {
      "name": "python3",
      "display_name": "Python 3"
    }
  },
  "cells": [
    {
      "cell_type": "markdown",
      "metadata": {
        "id": "view-in-github",
        "colab_type": "text"
      },
      "source": [
        "<a href=\"https://colab.research.google.com/github/pgkramer/portfolio/blob/master/Dog_Data.ipynb\" target=\"_parent\"><img src=\"https://colab.research.google.com/assets/colab-badge.svg\" alt=\"Open In Colab\"/></a>"
      ]
    },
    {
      "cell_type": "markdown",
      "metadata": {
        "id": "3iOZcLdCiJEr",
        "colab_type": "text"
      },
      "source": [
        "####Overview\n",
        "The purpose of this exercise is to demonstrate my ability to clean, interpret, and visualize a dataset. \n",
        "\n",
        "\n",
        "\n",
        "####Data Synopsis\n",
        "All dog owners residing in NYC are required by law to license their dogs. The data is sourced from the DOHMH Dog Licensing System (https://a816-healthpsi.nyc.gov/DogLicense), where owners can apply for and renew dog licenses. Each record stands as a unique license period for a dog over the course of the yearlong time frame. For more information, see: https://data.cityofnewyork.us/d/nu7n-tubp\n"
      ]
    },
    {
      "cell_type": "code",
      "metadata": {
        "id": "tvcxN5qff4bn",
        "colab_type": "code",
        "colab": {}
      },
      "source": [
        "import pandas as pd\n",
        "import numpy as np\n",
        "from bokeh.plotting import figure, output_file, show\n",
        "import seaborn as sns\n",
        "import matplotlib.pyplot as plt"
      ],
      "execution_count": 0,
      "outputs": []
    },
    {
      "cell_type": "code",
      "metadata": {
        "id": "XKu0-IR2hty7",
        "colab_type": "code",
        "outputId": "63226c41-1175-4b1c-b3b3-fa719940513c",
        "colab": {
          "base_uri": "https://localhost:8080/",
          "height": 122
        }
      },
      "source": [
        "from google.colab import drive\n",
        "drive.mount('/content/drive')"
      ],
      "execution_count": 2,
      "outputs": [
        {
          "output_type": "stream",
          "text": [
            "Go to this URL in a browser: https://accounts.google.com/o/oauth2/auth?client_id=947318989803-6bn6qk8qdgf4n4g3pfee6491hc0brc4i.apps.googleusercontent.com&redirect_uri=urn%3Aietf%3Awg%3Aoauth%3A2.0%3Aoob&scope=email%20https%3A%2F%2Fwww.googleapis.com%2Fauth%2Fdocs.test%20https%3A%2F%2Fwww.googleapis.com%2Fauth%2Fdrive%20https%3A%2F%2Fwww.googleapis.com%2Fauth%2Fdrive.photos.readonly%20https%3A%2F%2Fwww.googleapis.com%2Fauth%2Fpeopleapi.readonly&response_type=code\n",
            "\n",
            "Enter your authorization code:\n",
            "··········\n",
            "Mounted at /content/drive\n"
          ],
          "name": "stdout"
        }
      ]
    },
    {
      "cell_type": "code",
      "metadata": {
        "id": "hGAuROpFiGUM",
        "colab_type": "code",
        "colab": {}
      },
      "source": [
        "dog_data = pd.read_csv(\"/content/drive/My Drive/Colab Notebooks/dog_data.csv\")"
      ],
      "execution_count": 0,
      "outputs": []
    },
    {
      "cell_type": "code",
      "metadata": {
        "id": "NvMexzxylUI1",
        "colab_type": "code",
        "outputId": "ba1e76af-ecea-4a9f-e703-387a5b434246",
        "colab": {
          "base_uri": "https://localhost:8080/",
          "height": 204
        }
      },
      "source": [
        "dog_data.head()"
      ],
      "execution_count": 4,
      "outputs": [
        {
          "output_type": "execute_result",
          "data": {
            "text/html": [
              "<div>\n",
              "<style scoped>\n",
              "    .dataframe tbody tr th:only-of-type {\n",
              "        vertical-align: middle;\n",
              "    }\n",
              "\n",
              "    .dataframe tbody tr th {\n",
              "        vertical-align: top;\n",
              "    }\n",
              "\n",
              "    .dataframe thead th {\n",
              "        text-align: right;\n",
              "    }\n",
              "</style>\n",
              "<table border=\"1\" class=\"dataframe\">\n",
              "  <thead>\n",
              "    <tr style=\"text-align: right;\">\n",
              "      <th></th>\n",
              "      <th>rownumber</th>\n",
              "      <th>animalname</th>\n",
              "      <th>animalgender</th>\n",
              "      <th>breedname</th>\n",
              "      <th>borough</th>\n",
              "      <th>statesenatorialdistrict</th>\n",
              "    </tr>\n",
              "  </thead>\n",
              "  <tbody>\n",
              "    <tr>\n",
              "      <th>0</th>\n",
              "      <td>1753</td>\n",
              "      <td>SHADOW</td>\n",
              "      <td>M</td>\n",
              "      <td>Beagle</td>\n",
              "      <td>Brooklyn</td>\n",
              "      <td>19.0</td>\n",
              "    </tr>\n",
              "    <tr>\n",
              "      <th>1</th>\n",
              "      <td>2415</td>\n",
              "      <td>ROCCO</td>\n",
              "      <td>M</td>\n",
              "      <td>Boxer</td>\n",
              "      <td>Brooklyn</td>\n",
              "      <td>17.0</td>\n",
              "    </tr>\n",
              "    <tr>\n",
              "      <th>2</th>\n",
              "      <td>3328</td>\n",
              "      <td>LUIGI</td>\n",
              "      <td>M</td>\n",
              "      <td>Maltese</td>\n",
              "      <td>Bronx</td>\n",
              "      <td>34.0</td>\n",
              "    </tr>\n",
              "    <tr>\n",
              "      <th>3</th>\n",
              "      <td>7537</td>\n",
              "      <td>PETUNIA</td>\n",
              "      <td>F</td>\n",
              "      <td>Pug</td>\n",
              "      <td>Brooklyn</td>\n",
              "      <td>18.0</td>\n",
              "    </tr>\n",
              "    <tr>\n",
              "      <th>4</th>\n",
              "      <td>8487</td>\n",
              "      <td>ROMEO</td>\n",
              "      <td>M</td>\n",
              "      <td>Maltese</td>\n",
              "      <td>Bronx</td>\n",
              "      <td>32.0</td>\n",
              "    </tr>\n",
              "  </tbody>\n",
              "</table>\n",
              "</div>"
            ],
            "text/plain": [
              "   rownumber animalname  ...   borough statesenatorialdistrict\n",
              "0       1753     SHADOW  ...  Brooklyn                    19.0\n",
              "1       2415      ROCCO  ...  Brooklyn                    17.0\n",
              "2       3328      LUIGI  ...     Bronx                    34.0\n",
              "3       7537    PETUNIA  ...  Brooklyn                    18.0\n",
              "4       8487      ROMEO  ...     Bronx                    32.0\n",
              "\n",
              "[5 rows x 6 columns]"
            ]
          },
          "metadata": {
            "tags": []
          },
          "execution_count": 4
        }
      ]
    },
    {
      "cell_type": "code",
      "metadata": {
        "id": "8qRzGw16mOxr",
        "colab_type": "code",
        "colab": {}
      },
      "source": [
        "#Convert observations to title case \n",
        "dog_data[\"animalname\"] = dog_data[\"animalname\"].str.title()\n",
        "dog_data['borough'] = dog_data['borough'].str.title()"
      ],
      "execution_count": 0,
      "outputs": []
    },
    {
      "cell_type": "code",
      "metadata": {
        "id": "tJmbz71coVQX",
        "colab_type": "code",
        "outputId": "23e927eb-34c5-4fa8-ba90-7be11394e782",
        "colab": {
          "base_uri": "https://localhost:8080/",
          "height": 136
        }
      },
      "source": [
        "dog_data.dtypes"
      ],
      "execution_count": 6,
      "outputs": [
        {
          "output_type": "execute_result",
          "data": {
            "text/plain": [
              "rownumber                    int64\n",
              "animalname                  object\n",
              "animalgender                object\n",
              "breedname                   object\n",
              "borough                     object\n",
              "statesenatorialdistrict    float64\n",
              "dtype: object"
            ]
          },
          "metadata": {
            "tags": []
          },
          "execution_count": 6
        }
      ]
    },
    {
      "cell_type": "code",
      "metadata": {
        "id": "ipuyybU-ocLn",
        "colab_type": "code",
        "outputId": "15fd9f0c-16eb-4756-aa81-a516d8a69e95",
        "colab": {
          "base_uri": "https://localhost:8080/",
          "height": 136
        }
      },
      "source": [
        "#Find missing values\n",
        "\n",
        "dog_data.isnull().sum()"
      ],
      "execution_count": 7,
      "outputs": [
        {
          "output_type": "execute_result",
          "data": {
            "text/plain": [
              "rownumber                     0\n",
              "animalname                  246\n",
              "animalgender                  5\n",
              "breedname                     0\n",
              "borough                       0\n",
              "statesenatorialdistrict    2895\n",
              "dtype: int64"
            ]
          },
          "metadata": {
            "tags": []
          },
          "execution_count": 7
        }
      ]
    },
    {
      "cell_type": "code",
      "metadata": {
        "id": "XAXNrHl5s4MN",
        "colab_type": "code",
        "colab": {}
      },
      "source": [
        "#Drop null values, row column, and reset index\n",
        "dog_data.drop(\"rownumber\", axis=1, inplace=True)\n",
        "dog_data.dropna(inplace=True)\n",
        "dog_data.isnull().sum()\n",
        "dog_data.reset_index(inplace=True)"
      ],
      "execution_count": 0,
      "outputs": []
    },
    {
      "cell_type": "code",
      "metadata": {
        "id": "AlkRAaoip2Ob",
        "colab_type": "code",
        "colab": {}
      },
      "source": [
        "#Convert senatorial district to integer, rename columns for legibility \n",
        "dog_data.statesenatorialdistrict = dog_data.statesenatorialdistrict.astype(int)\n",
        "dog_data.rename(columns={'animalname':'name', 'animalgender': 'gender','breedname':'breed','statesenatorialdistrict':'district'}, inplace=True)"
      ],
      "execution_count": 0,
      "outputs": []
    },
    {
      "cell_type": "code",
      "metadata": {
        "id": "NT2MKdg2jzWA",
        "colab_type": "code",
        "outputId": "0accb26c-b5f8-414a-e084-4baa3461419b",
        "colab": {
          "base_uri": "https://localhost:8080/",
          "height": 119
        }
      },
      "source": [
        "print(\"There are {} observations and {} features in this dataset. \\n\".format(dog_data.shape[0],dog_data.shape[1]))\n",
        "\n",
        "print(\"There are {} types of dogs in this dataset such as {}... \\n\".format(len(dog_data.breed.unique()),\n",
        "                                                                           \", \".join(dog_data.breed.unique()[0:5])))\n",
        "\n",
        "print(\"There are {} unique dog names in this dataset such as {}... \\n\".format(len(dog_data.name.unique()),\n",
        "                                                                                      \", \".join(dog_data.name.unique()[0:5])))"
      ],
      "execution_count": 10,
      "outputs": [
        {
          "output_type": "stream",
          "text": [
            "There are 102050 observations and 6 features in this dataset. \n",
            "\n",
            "There are 298 types of dogs in this dataset such as Beagle, Boxer, Maltese, Pug, Chihuahua... \n",
            "\n",
            "There are 15121 unique dog names in this dataset such as Shadow, Rocco, Luigi, Petunia, Romeo... \n",
            "\n"
          ],
          "name": "stdout"
        }
      ]
    },
    {
      "cell_type": "code",
      "metadata": {
        "id": "ozrTN-Ft5qdy",
        "colab_type": "code",
        "outputId": "9af175c1-b50a-4627-b1a9-f6524097fa0b",
        "colab": {
          "base_uri": "https://localhost:8080/",
          "height": 204
        }
      },
      "source": [
        "dog_data.head()"
      ],
      "execution_count": 11,
      "outputs": [
        {
          "output_type": "execute_result",
          "data": {
            "text/html": [
              "<div>\n",
              "<style scoped>\n",
              "    .dataframe tbody tr th:only-of-type {\n",
              "        vertical-align: middle;\n",
              "    }\n",
              "\n",
              "    .dataframe tbody tr th {\n",
              "        vertical-align: top;\n",
              "    }\n",
              "\n",
              "    .dataframe thead th {\n",
              "        text-align: right;\n",
              "    }\n",
              "</style>\n",
              "<table border=\"1\" class=\"dataframe\">\n",
              "  <thead>\n",
              "    <tr style=\"text-align: right;\">\n",
              "      <th></th>\n",
              "      <th>index</th>\n",
              "      <th>name</th>\n",
              "      <th>gender</th>\n",
              "      <th>breed</th>\n",
              "      <th>borough</th>\n",
              "      <th>district</th>\n",
              "    </tr>\n",
              "  </thead>\n",
              "  <tbody>\n",
              "    <tr>\n",
              "      <th>0</th>\n",
              "      <td>0</td>\n",
              "      <td>Shadow</td>\n",
              "      <td>M</td>\n",
              "      <td>Beagle</td>\n",
              "      <td>Brooklyn</td>\n",
              "      <td>19</td>\n",
              "    </tr>\n",
              "    <tr>\n",
              "      <th>1</th>\n",
              "      <td>1</td>\n",
              "      <td>Rocco</td>\n",
              "      <td>M</td>\n",
              "      <td>Boxer</td>\n",
              "      <td>Brooklyn</td>\n",
              "      <td>17</td>\n",
              "    </tr>\n",
              "    <tr>\n",
              "      <th>2</th>\n",
              "      <td>2</td>\n",
              "      <td>Luigi</td>\n",
              "      <td>M</td>\n",
              "      <td>Maltese</td>\n",
              "      <td>Bronx</td>\n",
              "      <td>34</td>\n",
              "    </tr>\n",
              "    <tr>\n",
              "      <th>3</th>\n",
              "      <td>3</td>\n",
              "      <td>Petunia</td>\n",
              "      <td>F</td>\n",
              "      <td>Pug</td>\n",
              "      <td>Brooklyn</td>\n",
              "      <td>18</td>\n",
              "    </tr>\n",
              "    <tr>\n",
              "      <th>4</th>\n",
              "      <td>4</td>\n",
              "      <td>Romeo</td>\n",
              "      <td>M</td>\n",
              "      <td>Maltese</td>\n",
              "      <td>Bronx</td>\n",
              "      <td>32</td>\n",
              "    </tr>\n",
              "  </tbody>\n",
              "</table>\n",
              "</div>"
            ],
            "text/plain": [
              "   index     name gender    breed   borough  district\n",
              "0      0   Shadow      M   Beagle  Brooklyn        19\n",
              "1      1    Rocco      M    Boxer  Brooklyn        17\n",
              "2      2    Luigi      M  Maltese     Bronx        34\n",
              "3      3  Petunia      F      Pug  Brooklyn        18\n",
              "4      4    Romeo      M  Maltese     Bronx        32"
            ]
          },
          "metadata": {
            "tags": []
          },
          "execution_count": 11
        }
      ]
    },
    {
      "cell_type": "code",
      "metadata": {
        "id": "DKv6CaF8_Si1",
        "colab_type": "code",
        "outputId": "7acca5c3-44e2-4538-c89f-64a304625a1a",
        "colab": {
          "base_uri": "https://localhost:8080/",
          "height": 221
        }
      },
      "source": [
        "#Looks like many did not include the dog's name, but the most popular of the ones that did are \"Bella\", \"Max\", and \"Charlie\" \n",
        "dog_data['name'].value_counts()"
      ],
      "execution_count": 12,
      "outputs": [
        {
          "output_type": "execute_result",
          "data": {
            "text/plain": [
              "Unknown              2238\n",
              "Name Not Provided    1498\n",
              "Bella                1125\n",
              "Max                  1049\n",
              "Charlie               833\n",
              "                     ... \n",
              "Wuffie                  1\n",
              "Hazard                  1\n",
              "Ehrmie                  1\n",
              "Ciby                    1\n",
              "Bocce                   1\n",
              "Name: name, Length: 15121, dtype: int64"
            ]
          },
          "metadata": {
            "tags": []
          },
          "execution_count": 12
        }
      ]
    },
    {
      "cell_type": "code",
      "metadata": {
        "id": "-pjzl1peo0rs",
        "colab_type": "code",
        "outputId": "b232855a-11a8-4dda-d5f8-b7d3abe65782",
        "colab": {
          "base_uri": "https://localhost:8080/",
          "height": 34
        }
      },
      "source": [
        "numuniquenames=len(dog_data['name'].unique())\n",
        "print(f\"There are {numuniquenames} unique dog names registered in NYC!\")"
      ],
      "execution_count": 13,
      "outputs": [
        {
          "output_type": "stream",
          "text": [
            "There are 15121 unique dog names registered in NYC!\n"
          ],
          "name": "stdout"
        }
      ]
    },
    {
      "cell_type": "code",
      "metadata": {
        "id": "PMwLX54Ym6z6",
        "colab_type": "code",
        "colab": {}
      },
      "source": [
        "#Standardize null values for Names\n",
        "dog_data['name'].replace({'Name Not Provided': 'Unknown'}, inplace=True)\n",
        "dog_data['name'].replace({' ': 'Unknown'}, inplace=True)"
      ],
      "execution_count": 0,
      "outputs": []
    },
    {
      "cell_type": "code",
      "metadata": {
        "id": "RPxr5mjGob90",
        "colab_type": "code",
        "outputId": "45abe327-0b00-4a4a-ad5c-58ac75dac1a3",
        "colab": {
          "base_uri": "https://localhost:8080/",
          "height": 221
        }
      },
      "source": [
        "dog_data['name'].value_counts()"
      ],
      "execution_count": 15,
      "outputs": [
        {
          "output_type": "execute_result",
          "data": {
            "text/plain": [
              "Unknown    3736\n",
              "Bella      1125\n",
              "Max        1049\n",
              "Charlie     833\n",
              "Coco        791\n",
              "           ... \n",
              "Saila         1\n",
              "Aeris         1\n",
              "Keenan        1\n",
              "Napier        1\n",
              "Beat          1\n",
              "Name: name, Length: 15120, dtype: int64"
            ]
          },
          "metadata": {
            "tags": []
          },
          "execution_count": 15
        }
      ]
    },
    {
      "cell_type": "code",
      "metadata": {
        "id": "v1I2ezr-CfiP",
        "colab_type": "code",
        "outputId": "c48d8c2e-058a-4bf8-b5ea-d5ef8840218e",
        "colab": {
          "base_uri": "https://localhost:8080/",
          "height": 663
        }
      },
      "source": [
        "#The borough data is challenging to work with. Will rename the \"Staten Is\" cases to \"Staten Island\" and drop the rest as outliers. \n",
        "dog_data['borough'].value_counts()"
      ],
      "execution_count": 16,
      "outputs": [
        {
          "output_type": "execute_result",
          "data": {
            "text/plain": [
              "Manhattan             36006\n",
              "Brooklyn              25500\n",
              "Queens                20669\n",
              "Bronx                 10667\n",
              "Staten Island          8914\n",
              "Staten Is               198\n",
              "New York                 49\n",
              "Astoria                   4\n",
              "Elmhurst                  3\n",
              "Flushing                  3\n",
              "Jackson Heights           3\n",
              "Kew Gardens               3\n",
              "Ozone Park                2\n",
              "Briarwood                 2\n",
              "Woodside                  2\n",
              "Fresh Meadows             2\n",
              "Rockaway Park             2\n",
              "Corona                    2\n",
              "Ridgewood                 1\n",
              "Bayside                   1\n",
              "Cambria Heights           1\n",
              "Woodside Ny.              1\n",
              "Arverne                   1\n",
              "East Elmhurst             1\n",
              "B                         1\n",
              "Staten Island, Ny         1\n",
              "Oakland Gardens           1\n",
              "South Richmond Hil        1\n",
              "Nyc                       1\n",
              "Long Island City          1\n",
              "Richmond Hill             1\n",
              "College Point             1\n",
              "Glendale                  1\n",
              "Glen Oaks                 1\n",
              "Quens                     1\n",
              "Floral Park               1\n",
              "Forest Hills              1\n",
              "Name: borough, dtype: int64"
            ]
          },
          "metadata": {
            "tags": []
          },
          "execution_count": 16
        }
      ]
    },
    {
      "cell_type": "code",
      "metadata": {
        "id": "HaLqsO7YECrT",
        "colab_type": "code",
        "outputId": "bcc1f82d-2223-4362-f2be-2eac952e71e3",
        "colab": {
          "base_uri": "https://localhost:8080/",
          "height": 221
        }
      },
      "source": [
        "dog_data['borough'].replace({'Staten Is': 'Staten Island'})"
      ],
      "execution_count": 17,
      "outputs": [
        {
          "output_type": "execute_result",
          "data": {
            "text/plain": [
              "0              Brooklyn\n",
              "1              Brooklyn\n",
              "2                 Bronx\n",
              "3              Brooklyn\n",
              "4                 Bronx\n",
              "              ...      \n",
              "102045           Queens\n",
              "102046        Manhattan\n",
              "102047         Brooklyn\n",
              "102048    Staten Island\n",
              "102049            Bronx\n",
              "Name: borough, Length: 102050, dtype: object"
            ]
          },
          "metadata": {
            "tags": []
          },
          "execution_count": 17
        }
      ]
    },
    {
      "cell_type": "code",
      "metadata": {
        "id": "rOmvmHuZFFhy",
        "colab_type": "code",
        "colab": {}
      },
      "source": [
        "fiveboroughs = ['Brooklyn','Manhattan', 'Bronx', 'Staten Island','Queens']\n",
        "dog_data = dog_data[dog_data.borough.isin(fiveboroughs)]"
      ],
      "execution_count": 0,
      "outputs": []
    },
    {
      "cell_type": "code",
      "metadata": {
        "id": "_6DBuTl9HtyE",
        "colab_type": "code",
        "outputId": "56d9ccf6-d14d-4186-fcc7-8d61c721b465",
        "colab": {
          "base_uri": "https://localhost:8080/",
          "height": 119
        }
      },
      "source": [
        "dog_data['borough'].value_counts()"
      ],
      "execution_count": 19,
      "outputs": [
        {
          "output_type": "execute_result",
          "data": {
            "text/plain": [
              "Manhattan        36006\n",
              "Brooklyn         25500\n",
              "Queens           20669\n",
              "Bronx            10667\n",
              "Staten Island     8914\n",
              "Name: borough, dtype: int64"
            ]
          },
          "metadata": {
            "tags": []
          },
          "execution_count": 19
        }
      ]
    },
    {
      "cell_type": "code",
      "metadata": {
        "id": "t4MAERfK-fnn",
        "colab_type": "code",
        "colab": {}
      },
      "source": [
        "names = dog_data['name']\n",
        "genders = dog_data['gender']\n",
        "breeds = dog_data['breed']\n",
        "boroughs = dog_data['borough']\n",
        "districts = dog_data['district']"
      ],
      "execution_count": 0,
      "outputs": []
    },
    {
      "cell_type": "code",
      "metadata": {
        "id": "HHO6LzdSBN-J",
        "colab_type": "code",
        "outputId": "16533329-0082-46b2-8787-524263511d10",
        "colab": {
          "base_uri": "https://localhost:8080/",
          "height": 597
        }
      },
      "source": [
        "#Plotting a distribution of dog genders by borough \n",
        "colors=['#AED6F1', '#FDEBD0']\n",
        "custom_palette = sns.color_palette(colors)\n",
        "sns.catplot(x=\"borough\", hue=\"gender\", kind=\"count\",\n",
        "            palette=custom_palette, edgecolor=\".6\",  height=8, aspect=1.5, legend=False, data=dog_data)\n",
        "plt.legend(title=\"Gender\", fancybox=True, framealpha=1, shadow=True, borderpad=2, prop={'size': 12})\n",
        "sns.set(style=\"whitegrid\")\n",
        "plt.title(\"Dog Gender by Borough\", fontweight='bold', pad=22, loc='center', fontsize=18)\n",
        "plt.tick_params(labelsize='large')\n",
        "plt.xlabel(' ')\n",
        "plt.ylabel('Number of Dogs', fontsize=16)\n",
        "plt.show()"
      ],
      "execution_count": 95,
      "outputs": [
        {
          "output_type": "display_data",
          "data": {
            "image/png": "[encoded data removed]",
            "text/plain": [
              "<Figure size 864x576 with 1 Axes>"
            ]
          },
          "metadata": {
            "tags": []
          }
        }
      ]
    },
    {
      "cell_type": "code",
      "metadata": {
        "id": "4CjOMDVUA8Pw",
        "colab_type": "code",
        "colab": {}
      },
      "source": [
        "belladogs=dog_data.loc[dog_data['name'] == \"Bella\"]"
      ],
      "execution_count": 0,
      "outputs": []
    },
    {
      "cell_type": "code",
      "metadata": {
        "id": "ivNEdDI5BM0f",
        "colab_type": "code",
        "colab": {}
      },
      "source": [
        "belladogs.reset_index(inplace=True)"
      ],
      "execution_count": 0,
      "outputs": []
    },
    {
      "cell_type": "code",
      "metadata": {
        "id": "KppYeyz2E_ty",
        "colab_type": "code",
        "colab": {}
      },
      "source": [
        "sns.set(context='paper', style=\"whitegrid\", font='sans-serif', font_scale=1)  \n"
      ],
      "execution_count": 0,
      "outputs": []
    },
    {
      "cell_type": "code",
      "metadata": {
        "id": "zOTLZHSdC4o8",
        "colab_type": "code",
        "outputId": "793a12d8-017c-48a9-988d-eefb8abf5967",
        "colab": {
          "base_uri": "https://localhost:8080/",
          "height": 393
        }
      },
      "source": [
        "from matplotlib.pyplot import figure\n",
        "diverging_colors = sns.color_palette(\"Pastel1\", 5)\n",
        "sns.countplot(x='borough', data=belladogs, palette=diverging_colors)\n",
        "plt.title(\"Bellas by Borough\")\n",
        "plt.ylim(0, 350)\n",
        "plt.xticks(rotation=45, fontsize=12)\n",
        "plt.yticks(fontsize=12)\n",
        "plt.xlabel(\" \")\n",
        "plt.ylabel(\" \")\n",
        "plt.figure(num=None, figsize=(8, 6), facecolor='w', edgecolor='k')\n",
        "plt.style.use('fivethirtyeight')\n",
        "plt.show()"
      ],
      "execution_count": 133,
      "outputs": [
        {
          "output_type": "display_data",
          "data": {
            "image/png": "[encoded data removed]",
            "text/plain": [
              "<Figure size 432x288 with 1 Axes>"
            ]
          },
          "metadata": {
            "tags": []
          }
        },
        {
          "output_type": "display_data",
          "data": {
            "text/plain": [
              "<Figure size 576x432 with 0 Axes>"
            ]
          },
          "metadata": {
            "tags": []
          }
        }
      ]
    }
  ]
}