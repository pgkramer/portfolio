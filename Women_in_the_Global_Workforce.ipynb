{
  "nbformat": 4,
  "nbformat_minor": 0,
  "metadata": {
    "colab": {
      "name": "Women in the Global Workforce",
      "provenance": [],
      "collapsed_sections": [],
      "include_colab_link": true
    },
    "kernelspec": {
      "name": "python3",
      "display_name": "Python 3"
    }
  },
  "cells": [
    {
      "cell_type": "markdown",
      "metadata": {
        "id": "view-in-github",
        "colab_type": "text"
      },
      "source": [
        "<a href=\"https://colab.research.google.com/github/pgkramer/portfolio/blob/master/Women_in_the_Global_Workforce.ipynb\" target=\"_parent\"><img src=\"https://colab.research.google.com/assets/colab-badge.svg\" alt=\"Open In Colab\"/></a>"
      ]
    },
    {
      "cell_type": "code",
      "metadata": {
        "id": "j3QXr0vvX2gh",
        "colab_type": "code",
        "colab": {}
      },
      "source": [
        "import pandas as pd\n",
        "import numpy as np\n",
        "import seaborn as sns\n",
        "from scipy import stats\n",
        "from datetime import datetime\n",
        "from sklearn import preprocessing\n",
        "from sklearn.linear_model import LinearRegression\n",
        "import matplotlib.pyplot as plt\n",
        "%matplotlib inline"
      ],
      "execution_count": 0,
      "outputs": []
    },
    {
      "cell_type": "markdown",
      "metadata": {
        "id": "pNPwyBjXiio7",
        "colab_type": "text"
      },
      "source": [
        "#Introduction: Women in the Global Workforce\n",
        "\n",
        "Depending upon datasets from the International Labor Organization, I aim to investigate the relationship between various indicators of women's employment. I start by examining datasets regarding collective bargaining coverage (percentage of the workforce covered by collective bargaining agreements) and womens' share of employment in managerial positions (or, what percentage of managerial positions in the workforce are occupied by women). \n",
        "\n",
        "All datasets are downloaded from [ILO Statistics.](https://stat.ilo.org)"
      ]
    },
    {
      "cell_type": "code",
      "metadata": {
        "id": "TTFrfb2DYBtZ",
        "colab_type": "code",
        "colab": {
          "base_uri": "https://localhost:8080/",
          "height": 546
        },
        "outputId": "a01deae7-1600-49c4-b926-310a28168e72"
      },
      "source": [
        "bargain = pd.read_csv(\"Bargaining.csv\")\n",
        "bargain.head(10)"
      ],
      "execution_count": 2,
      "outputs": [
        {
          "output_type": "execute_result",
          "data": {
            "text/html": [
              "<div>\n",
              "<style scoped>\n",
              "    .dataframe tbody tr th:only-of-type {\n",
              "        vertical-align: middle;\n",
              "    }\n",
              "\n",
              "    .dataframe tbody tr th {\n",
              "        vertical-align: top;\n",
              "    }\n",
              "\n",
              "    .dataframe thead th {\n",
              "        text-align: right;\n",
              "    }\n",
              "</style>\n",
              "<table border=\"1\" class=\"dataframe\">\n",
              "  <thead>\n",
              "    <tr style=\"text-align: right;\">\n",
              "      <th></th>\n",
              "      <th>Country</th>\n",
              "      <th>Source</th>\n",
              "      <th>Time</th>\n",
              "      <th>Barg. Cov. Rate</th>\n",
              "    </tr>\n",
              "  </thead>\n",
              "  <tbody>\n",
              "    <tr>\n",
              "      <th>0</th>\n",
              "      <td>Albania</td>\n",
              "      <td>Other administrative records and related sources</td>\n",
              "      <td>2009</td>\n",
              "      <td>40.6</td>\n",
              "    </tr>\n",
              "    <tr>\n",
              "      <th>1</th>\n",
              "      <td>Albania</td>\n",
              "      <td>Other administrative records and related sources</td>\n",
              "      <td>2012</td>\n",
              "      <td>47.9</td>\n",
              "    </tr>\n",
              "    <tr>\n",
              "      <th>2</th>\n",
              "      <td>Albania</td>\n",
              "      <td>Other administrative records and related sources</td>\n",
              "      <td>2013</td>\n",
              "      <td>58.0</td>\n",
              "    </tr>\n",
              "    <tr>\n",
              "      <th>3</th>\n",
              "      <td>Argentina</td>\n",
              "      <td>Other administrative records and related sources</td>\n",
              "      <td>2008</td>\n",
              "      <td>50.9</td>\n",
              "    </tr>\n",
              "    <tr>\n",
              "      <th>4</th>\n",
              "      <td>Argentina</td>\n",
              "      <td>Other administrative records and related sources</td>\n",
              "      <td>2009</td>\n",
              "      <td>50.6</td>\n",
              "    </tr>\n",
              "    <tr>\n",
              "      <th>5</th>\n",
              "      <td>Argentina</td>\n",
              "      <td>Other administrative records and related sources</td>\n",
              "      <td>2010</td>\n",
              "      <td>52.4</td>\n",
              "    </tr>\n",
              "    <tr>\n",
              "      <th>6</th>\n",
              "      <td>Argentina</td>\n",
              "      <td>Other administrative records and related sources</td>\n",
              "      <td>2011</td>\n",
              "      <td>51.2</td>\n",
              "    </tr>\n",
              "    <tr>\n",
              "      <th>7</th>\n",
              "      <td>Argentina</td>\n",
              "      <td>Other administrative records and related sources</td>\n",
              "      <td>2012</td>\n",
              "      <td>50.5</td>\n",
              "    </tr>\n",
              "    <tr>\n",
              "      <th>8</th>\n",
              "      <td>Argentina</td>\n",
              "      <td>Other administrative records and related sources</td>\n",
              "      <td>2013</td>\n",
              "      <td>51.5</td>\n",
              "    </tr>\n",
              "    <tr>\n",
              "      <th>9</th>\n",
              "      <td>Argentina</td>\n",
              "      <td>Other administrative records and related sources</td>\n",
              "      <td>2014</td>\n",
              "      <td>51.0</td>\n",
              "    </tr>\n",
              "  </tbody>\n",
              "</table>\n",
              "</div>"
            ],
            "text/plain": [
              "     Country  ... Barg. Cov. Rate\n",
              "0    Albania  ...            40.6\n",
              "1    Albania  ...            47.9\n",
              "2    Albania  ...            58.0\n",
              "3  Argentina  ...            50.9\n",
              "4  Argentina  ...            50.6\n",
              "5  Argentina  ...            52.4\n",
              "6  Argentina  ...            51.2\n",
              "7  Argentina  ...            50.5\n",
              "8  Argentina  ...            51.5\n",
              "9  Argentina  ...            51.0\n",
              "\n",
              "[10 rows x 4 columns]"
            ]
          },
          "metadata": {
            "tags": []
          },
          "execution_count": 2
        }
      ]
    },
    {
      "cell_type": "markdown",
      "metadata": {
        "id": "mh9EEKbXhykR",
        "colab_type": "text"
      },
      "source": [
        "#Cleaning the Data\n",
        "\n",
        "The first dataset I found displays collective bargaining coverage. It appears the latest data available is from 2016. In cleaning the data, I will eliminate all cases except those which have collective bargaining coverage figures for 2016, which will provide a more coherent and relevant, if less expansive, dataset. "
      ]
    },
    {
      "cell_type": "code",
      "metadata": {
        "id": "z66Q9xDGYEOf",
        "colab_type": "code",
        "colab": {
          "base_uri": "https://localhost:8080/",
          "height": 102
        },
        "outputId": "4b7d2c14-d8a1-4d22-addf-b6ca45c93296"
      },
      "source": [
        "bargain.dropna(how='any')\n",
        "bargain.dtypes"
      ],
      "execution_count": 3,
      "outputs": [
        {
          "output_type": "execute_result",
          "data": {
            "text/plain": [
              "Country             object\n",
              "Source              object\n",
              "Time                 int64\n",
              "Barg. Cov. Rate    float64\n",
              "dtype: object"
            ]
          },
          "metadata": {
            "tags": []
          },
          "execution_count": 3
        }
      ]
    },
    {
      "cell_type": "code",
      "metadata": {
        "id": "RPGbK0wHYj5A",
        "colab_type": "code",
        "colab": {}
      },
      "source": [
        "bargain=bargain.drop(columns='Source')\n",
        "bargain.rename(columns = {'Barg. Cov. Rate':'Coverage'}, inplace = True)"
      ],
      "execution_count": 0,
      "outputs": []
    },
    {
      "cell_type": "code",
      "metadata": {
        "id": "efSuMp3YYHHP",
        "colab_type": "code",
        "colab": {
          "base_uri": "https://localhost:8080/",
          "height": 204
        },
        "outputId": "71069037-770e-4201-bef1-ac243f426e6c"
      },
      "source": [
        "bargain = bargain[bargain.Time>=2016]\n",
        "bargain.head(5)"
      ],
      "execution_count": 5,
      "outputs": [
        {
          "output_type": "execute_result",
          "data": {
            "text/html": [
              "<div>\n",
              "<style scoped>\n",
              "    .dataframe tbody tr th:only-of-type {\n",
              "        vertical-align: middle;\n",
              "    }\n",
              "\n",
              "    .dataframe tbody tr th {\n",
              "        vertical-align: top;\n",
              "    }\n",
              "\n",
              "    .dataframe thead th {\n",
              "        text-align: right;\n",
              "    }\n",
              "</style>\n",
              "<table border=\"1\" class=\"dataframe\">\n",
              "  <thead>\n",
              "    <tr style=\"text-align: right;\">\n",
              "      <th></th>\n",
              "      <th>Country</th>\n",
              "      <th>Time</th>\n",
              "      <th>Coverage</th>\n",
              "    </tr>\n",
              "  </thead>\n",
              "  <tbody>\n",
              "    <tr>\n",
              "      <th>11</th>\n",
              "      <td>Argentina</td>\n",
              "      <td>2016</td>\n",
              "      <td>51.8</td>\n",
              "    </tr>\n",
              "    <tr>\n",
              "      <th>23</th>\n",
              "      <td>Australia</td>\n",
              "      <td>2016</td>\n",
              "      <td>47.1</td>\n",
              "    </tr>\n",
              "    <tr>\n",
              "      <th>40</th>\n",
              "      <td>Austria</td>\n",
              "      <td>2016</td>\n",
              "      <td>98.0</td>\n",
              "    </tr>\n",
              "    <tr>\n",
              "      <th>58</th>\n",
              "      <td>Belgium</td>\n",
              "      <td>2016</td>\n",
              "      <td>96.0</td>\n",
              "    </tr>\n",
              "    <tr>\n",
              "      <th>72</th>\n",
              "      <td>Bulgaria</td>\n",
              "      <td>2016</td>\n",
              "      <td>10.8</td>\n",
              "    </tr>\n",
              "  </tbody>\n",
              "</table>\n",
              "</div>"
            ],
            "text/plain": [
              "      Country  Time  Coverage\n",
              "11  Argentina  2016      51.8\n",
              "23  Australia  2016      47.1\n",
              "40    Austria  2016      98.0\n",
              "58    Belgium  2016      96.0\n",
              "72   Bulgaria  2016      10.8"
            ]
          },
          "metadata": {
            "tags": []
          },
          "execution_count": 5
        }
      ]
    },
    {
      "cell_type": "code",
      "metadata": {
        "id": "RAqsb0r5ZMf0",
        "colab_type": "code",
        "colab": {}
      },
      "source": [
        "bargain.reset_index(drop=True, inplace=True)"
      ],
      "execution_count": 0,
      "outputs": []
    },
    {
      "cell_type": "code",
      "metadata": {
        "id": "_yUVHmfQZjFP",
        "colab_type": "code",
        "colab": {
          "base_uri": "https://localhost:8080/",
          "height": 204
        },
        "outputId": "feb5e021-6852-49cd-bdb5-cc2a4c834dd4"
      },
      "source": [
        "bargain.head(5)"
      ],
      "execution_count": 7,
      "outputs": [
        {
          "output_type": "execute_result",
          "data": {
            "text/html": [
              "<div>\n",
              "<style scoped>\n",
              "    .dataframe tbody tr th:only-of-type {\n",
              "        vertical-align: middle;\n",
              "    }\n",
              "\n",
              "    .dataframe tbody tr th {\n",
              "        vertical-align: top;\n",
              "    }\n",
              "\n",
              "    .dataframe thead th {\n",
              "        text-align: right;\n",
              "    }\n",
              "</style>\n",
              "<table border=\"1\" class=\"dataframe\">\n",
              "  <thead>\n",
              "    <tr style=\"text-align: right;\">\n",
              "      <th></th>\n",
              "      <th>Country</th>\n",
              "      <th>Time</th>\n",
              "      <th>Coverage</th>\n",
              "    </tr>\n",
              "  </thead>\n",
              "  <tbody>\n",
              "    <tr>\n",
              "      <th>0</th>\n",
              "      <td>Argentina</td>\n",
              "      <td>2016</td>\n",
              "      <td>51.8</td>\n",
              "    </tr>\n",
              "    <tr>\n",
              "      <th>1</th>\n",
              "      <td>Australia</td>\n",
              "      <td>2016</td>\n",
              "      <td>47.1</td>\n",
              "    </tr>\n",
              "    <tr>\n",
              "      <th>2</th>\n",
              "      <td>Austria</td>\n",
              "      <td>2016</td>\n",
              "      <td>98.0</td>\n",
              "    </tr>\n",
              "    <tr>\n",
              "      <th>3</th>\n",
              "      <td>Belgium</td>\n",
              "      <td>2016</td>\n",
              "      <td>96.0</td>\n",
              "    </tr>\n",
              "    <tr>\n",
              "      <th>4</th>\n",
              "      <td>Bulgaria</td>\n",
              "      <td>2016</td>\n",
              "      <td>10.8</td>\n",
              "    </tr>\n",
              "  </tbody>\n",
              "</table>\n",
              "</div>"
            ],
            "text/plain": [
              "     Country  Time  Coverage\n",
              "0  Argentina  2016      51.8\n",
              "1  Australia  2016      47.1\n",
              "2    Austria  2016      98.0\n",
              "3    Belgium  2016      96.0\n",
              "4   Bulgaria  2016      10.8"
            ]
          },
          "metadata": {
            "tags": []
          },
          "execution_count": 7
        }
      ]
    },
    {
      "cell_type": "code",
      "metadata": {
        "id": "Akh8n4crawJW",
        "colab_type": "code",
        "colab": {
          "base_uri": "https://localhost:8080/",
          "height": 170
        },
        "outputId": "4441a8d0-2000-410b-e8ba-00e453560b6e"
      },
      "source": [
        "bargain.Coverage.describe()"
      ],
      "execution_count": 8,
      "outputs": [
        {
          "output_type": "execute_result",
          "data": {
            "text/plain": [
              "count    35.000000\n",
              "mean     31.877143\n",
              "std      31.541701\n",
              "min       0.600000\n",
              "25%       7.900000\n",
              "50%      16.700000\n",
              "75%      49.450000\n",
              "max      98.000000\n",
              "Name: Coverage, dtype: float64"
            ]
          },
          "metadata": {
            "tags": []
          },
          "execution_count": 8
        }
      ]
    },
    {
      "cell_type": "markdown",
      "metadata": {
        "id": "IRQ3p-d51kCB",
        "colab_type": "text"
      },
      "source": [
        "Given the standard deviation, it appears that this distribution is not normal."
      ]
    },
    {
      "cell_type": "code",
      "metadata": {
        "id": "Y7IIWf5bg13D",
        "colab_type": "code",
        "colab": {
          "base_uri": "https://localhost:8080/",
          "height": 629
        },
        "outputId": "a45dfebb-8e83-4bcc-bf1f-d4bb6b7cc693"
      },
      "source": [
        "print(bargain)"
      ],
      "execution_count": 9,
      "outputs": [
        {
          "output_type": "stream",
          "text": [
            "                 Country  Time  Coverage\n",
            "0              Argentina  2016      51.8\n",
            "1              Australia  2016      47.1\n",
            "2                Austria  2016      98.0\n",
            "3                Belgium  2016      96.0\n",
            "4               Bulgaria  2016      10.8\n",
            "5                 Canada  2016      30.3\n",
            "6                  Chile  2016      17.9\n",
            "7               Colombia  2016      15.7\n",
            "8             Costa Rica  2016      10.6\n",
            "9                Croatia  2016      46.7\n",
            "10           El Salvador  2016       5.0\n",
            "11               Germany  2016      56.0\n",
            "12                 Ghana  2016      14.7\n",
            "13                Greece  2016      17.8\n",
            "14               Iceland  2016      90.0\n",
            "15                 Japan  2016      16.7\n",
            "16                Latvia  2016      13.8\n",
            "17              Malaysia  2016       1.3\n",
            "18             Mauritius  2016       0.6\n",
            "19                Mexico  2016       9.9\n",
            "20  Moldova, Republic of  2016      43.0\n",
            "21           Netherlands  2016      78.6\n",
            "22           New Zealand  2016      15.9\n",
            "23                Panama  2016       1.0\n",
            "24                  Peru  2016       4.8\n",
            "25           Philippines  2016       1.6\n",
            "26              Slovenia  2016      70.9\n",
            "27          South Africa  2016      29.9\n",
            "28                 Spain  2016      73.1\n",
            "29             Sri Lanka  2016       4.8\n",
            "30              Thailand  2016       3.1\n",
            "31                Turkey  2016       5.9\n",
            "32        United Kingdom  2016      26.3\n",
            "33         United States  2016      11.5\n",
            "34               Uruguay  2016      94.6\n"
          ],
          "name": "stdout"
        }
      ]
    },
    {
      "cell_type": "markdown",
      "metadata": {
        "id": "oaFcjTH_kk2v",
        "colab_type": "text"
      },
      "source": [
        "The next dataset displays the percentage of managerial positions occupied by women by country."
      ]
    },
    {
      "cell_type": "code",
      "metadata": {
        "id": "vLiOpxO_k7nI",
        "colab_type": "code",
        "colab": {}
      },
      "source": [
        "womenmanage = pd.read_csv(\"ILOSTAT_.csv\")"
      ],
      "execution_count": 0,
      "outputs": []
    },
    {
      "cell_type": "code",
      "metadata": {
        "id": "DMwLsG0zlIMT",
        "colab_type": "code",
        "colab": {
          "base_uri": "https://localhost:8080/",
          "height": 556
        },
        "outputId": "b04fb528-6fc3-4783-cffc-7976b799eda5"
      },
      "source": [
        "womenmanage.head(5)"
      ],
      "execution_count": 11,
      "outputs": [
        {
          "output_type": "execute_result",
          "data": {
            "text/html": [
              "<div>\n",
              "<style scoped>\n",
              "    .dataframe tbody tr th:only-of-type {\n",
              "        vertical-align: middle;\n",
              "    }\n",
              "\n",
              "    .dataframe tbody tr th {\n",
              "        vertical-align: top;\n",
              "    }\n",
              "\n",
              "    .dataframe thead th {\n",
              "        text-align: right;\n",
              "    }\n",
              "</style>\n",
              "<table border=\"1\" class=\"dataframe\">\n",
              "  <thead>\n",
              "    <tr style=\"text-align: right;\">\n",
              "      <th></th>\n",
              "      <th>collection</th>\n",
              "      <th>collection.label</th>\n",
              "      <th>ref_area</th>\n",
              "      <th>ref_area.label</th>\n",
              "      <th>source</th>\n",
              "      <th>source.label</th>\n",
              "      <th>indicator</th>\n",
              "      <th>indicator.label</th>\n",
              "      <th>sex</th>\n",
              "      <th>sex.label</th>\n",
              "      <th>classif1</th>\n",
              "      <th>classif1.label</th>\n",
              "      <th>classif2</th>\n",
              "      <th>classif2.label</th>\n",
              "      <th>classif3</th>\n",
              "      <th>classif3.label</th>\n",
              "      <th>classif4</th>\n",
              "      <th>classif4.label</th>\n",
              "      <th>classif5</th>\n",
              "      <th>classif5.label</th>\n",
              "      <th>time</th>\n",
              "      <th>obs_value</th>\n",
              "      <th>obs_status</th>\n",
              "      <th>obs_status.label</th>\n",
              "      <th>note_classif</th>\n",
              "      <th>note_classif.label</th>\n",
              "      <th>note_indicator</th>\n",
              "      <th>note_indicator.label</th>\n",
              "      <th>note_source</th>\n",
              "      <th>note_source.label</th>\n",
              "      <th>Unnamed: 30</th>\n",
              "    </tr>\n",
              "  </thead>\n",
              "  <tbody>\n",
              "    <tr>\n",
              "      <th>0</th>\n",
              "      <td>SDG</td>\n",
              "      <td>SDG labour market indicators</td>\n",
              "      <td>ARE</td>\n",
              "      <td>United Arab Emirates</td>\n",
              "      <td>BA:716</td>\n",
              "      <td>ARE - LFS - Labour force survey</td>\n",
              "      <td>SDG_0552_OCU_RT</td>\n",
              "      <td>SDG indicator 5.5.2 - Female share of employme...</td>\n",
              "      <td>NaN</td>\n",
              "      <td>NaN</td>\n",
              "      <td>OCU_MGMT_TOTAL</td>\n",
              "      <td>Occupation (Managerial positions): Total manag...</td>\n",
              "      <td>NaN</td>\n",
              "      <td>NaN</td>\n",
              "      <td>NaN</td>\n",
              "      <td>NaN</td>\n",
              "      <td>NaN</td>\n",
              "      <td>NaN</td>\n",
              "      <td>NaN</td>\n",
              "      <td>NaN</td>\n",
              "      <td>2016</td>\n",
              "      <td>14.6</td>\n",
              "      <td>NaN</td>\n",
              "      <td>NaN</td>\n",
              "      <td>NaN</td>\n",
              "      <td>NaN</td>\n",
              "      <td>NaN</td>\n",
              "      <td>NaN</td>\n",
              "      <td>T3:95</td>\n",
              "      <td>Age coverage - maximum age: 65 years old</td>\n",
              "      <td>NaN</td>\n",
              "    </tr>\n",
              "    <tr>\n",
              "      <th>1</th>\n",
              "      <td>SDG</td>\n",
              "      <td>SDG labour market indicators</td>\n",
              "      <td>ARM</td>\n",
              "      <td>Armenia</td>\n",
              "      <td>BA:867</td>\n",
              "      <td>ARM - LFS - Household Labour Force Survey</td>\n",
              "      <td>SDG_0552_OCU_RT</td>\n",
              "      <td>SDG indicator 5.5.2 - Female share of employme...</td>\n",
              "      <td>NaN</td>\n",
              "      <td>NaN</td>\n",
              "      <td>OCU_MGMT_TOTAL</td>\n",
              "      <td>Occupation (Managerial positions): Total manag...</td>\n",
              "      <td>NaN</td>\n",
              "      <td>NaN</td>\n",
              "      <td>NaN</td>\n",
              "      <td>NaN</td>\n",
              "      <td>NaN</td>\n",
              "      <td>NaN</td>\n",
              "      <td>NaN</td>\n",
              "      <td>NaN</td>\n",
              "      <td>2016</td>\n",
              "      <td>29.5</td>\n",
              "      <td>NaN</td>\n",
              "      <td>NaN</td>\n",
              "      <td>NaN</td>\n",
              "      <td>NaN</td>\n",
              "      <td>NaN</td>\n",
              "      <td>NaN</td>\n",
              "      <td>R1:3513_T3:240</td>\n",
              "      <td>Repository: ILO-STATISTICS - Micro data proces...</td>\n",
              "      <td>NaN</td>\n",
              "    </tr>\n",
              "    <tr>\n",
              "      <th>2</th>\n",
              "      <td>SDG</td>\n",
              "      <td>SDG labour market indicators</td>\n",
              "      <td>AUS</td>\n",
              "      <td>Australia</td>\n",
              "      <td>BA:518</td>\n",
              "      <td>AUS - LFS - Labour Force Survey</td>\n",
              "      <td>SDG_0552_OCU_RT</td>\n",
              "      <td>SDG indicator 5.5.2 - Female share of employme...</td>\n",
              "      <td>NaN</td>\n",
              "      <td>NaN</td>\n",
              "      <td>OCU_MGMT_TOTAL</td>\n",
              "      <td>Occupation (Managerial positions): Total manag...</td>\n",
              "      <td>NaN</td>\n",
              "      <td>NaN</td>\n",
              "      <td>NaN</td>\n",
              "      <td>NaN</td>\n",
              "      <td>NaN</td>\n",
              "      <td>NaN</td>\n",
              "      <td>NaN</td>\n",
              "      <td>NaN</td>\n",
              "      <td>2016</td>\n",
              "      <td>36.7</td>\n",
              "      <td>NaN</td>\n",
              "      <td>NaN</td>\n",
              "      <td>NaN</td>\n",
              "      <td>NaN</td>\n",
              "      <td>T12:145</td>\n",
              "      <td>Working time arrangement coverage: Full-time a...</td>\n",
              "      <td>S4:30_S5:38</td>\n",
              "      <td>Geographical coverage: Total national, excludi...</td>\n",
              "      <td>NaN</td>\n",
              "    </tr>\n",
              "    <tr>\n",
              "      <th>3</th>\n",
              "      <td>SDG</td>\n",
              "      <td>SDG labour market indicators</td>\n",
              "      <td>AUT</td>\n",
              "      <td>Austria</td>\n",
              "      <td>BA:536</td>\n",
              "      <td>AUT - LFS - EU Labour Force Survey</td>\n",
              "      <td>SDG_0552_OCU_RT</td>\n",
              "      <td>SDG indicator 5.5.2 - Female share of employme...</td>\n",
              "      <td>NaN</td>\n",
              "      <td>NaN</td>\n",
              "      <td>OCU_MGMT_SENIOR</td>\n",
              "      <td>Occupation (Managerial positions): Senior and ...</td>\n",
              "      <td>NaN</td>\n",
              "      <td>NaN</td>\n",
              "      <td>NaN</td>\n",
              "      <td>NaN</td>\n",
              "      <td>NaN</td>\n",
              "      <td>NaN</td>\n",
              "      <td>NaN</td>\n",
              "      <td>NaN</td>\n",
              "      <td>2016</td>\n",
              "      <td>29.5</td>\n",
              "      <td>NaN</td>\n",
              "      <td>NaN</td>\n",
              "      <td>NaN</td>\n",
              "      <td>NaN</td>\n",
              "      <td>NaN</td>\n",
              "      <td>NaN</td>\n",
              "      <td>R1:2384</td>\n",
              "      <td>Repository: Eurostat special tabulation</td>\n",
              "      <td>NaN</td>\n",
              "    </tr>\n",
              "    <tr>\n",
              "      <th>4</th>\n",
              "      <td>SDG</td>\n",
              "      <td>SDG labour market indicators</td>\n",
              "      <td>AUT</td>\n",
              "      <td>Austria</td>\n",
              "      <td>BA:536</td>\n",
              "      <td>AUT - LFS - EU Labour Force Survey</td>\n",
              "      <td>SDG_0552_OCU_RT</td>\n",
              "      <td>SDG indicator 5.5.2 - Female share of employme...</td>\n",
              "      <td>NaN</td>\n",
              "      <td>NaN</td>\n",
              "      <td>OCU_MGMT_TOTAL</td>\n",
              "      <td>Occupation (Managerial positions): Total manag...</td>\n",
              "      <td>NaN</td>\n",
              "      <td>NaN</td>\n",
              "      <td>NaN</td>\n",
              "      <td>NaN</td>\n",
              "      <td>NaN</td>\n",
              "      <td>NaN</td>\n",
              "      <td>NaN</td>\n",
              "      <td>NaN</td>\n",
              "      <td>2016</td>\n",
              "      <td>31.8</td>\n",
              "      <td>NaN</td>\n",
              "      <td>NaN</td>\n",
              "      <td>NaN</td>\n",
              "      <td>NaN</td>\n",
              "      <td>NaN</td>\n",
              "      <td>NaN</td>\n",
              "      <td>R1:2384</td>\n",
              "      <td>Repository: Eurostat special tabulation</td>\n",
              "      <td>NaN</td>\n",
              "    </tr>\n",
              "  </tbody>\n",
              "</table>\n",
              "</div>"
            ],
            "text/plain": [
              "  collection  ... Unnamed: 30\n",
              "0        SDG  ...         NaN\n",
              "1        SDG  ...         NaN\n",
              "2        SDG  ...         NaN\n",
              "3        SDG  ...         NaN\n",
              "4        SDG  ...         NaN\n",
              "\n",
              "[5 rows x 31 columns]"
            ]
          },
          "metadata": {
            "tags": []
          },
          "execution_count": 11
        }
      ]
    },
    {
      "cell_type": "code",
      "metadata": {
        "id": "LZf1ktSnp1Xl",
        "colab_type": "code",
        "colab": {
          "base_uri": "https://localhost:8080/",
          "height": 544
        },
        "outputId": "adddd84a-8814-4fe5-9fac-ae08ac5e4ff2"
      },
      "source": [
        "list(womenmanage.columns)"
      ],
      "execution_count": 12,
      "outputs": [
        {
          "output_type": "execute_result",
          "data": {
            "text/plain": [
              "['collection',\n",
              " 'collection.label',\n",
              " 'ref_area',\n",
              " 'ref_area.label',\n",
              " 'source',\n",
              " 'source.label',\n",
              " 'indicator',\n",
              " 'indicator.label',\n",
              " 'sex',\n",
              " 'sex.label',\n",
              " 'classif1',\n",
              " 'classif1.label',\n",
              " 'classif2',\n",
              " 'classif2.label',\n",
              " 'classif3',\n",
              " 'classif3.label',\n",
              " 'classif4',\n",
              " 'classif4.label',\n",
              " 'classif5',\n",
              " 'classif5.label',\n",
              " 'time',\n",
              " 'obs_value',\n",
              " 'obs_status',\n",
              " 'obs_status.label',\n",
              " 'note_classif',\n",
              " 'note_classif.label',\n",
              " 'note_indicator',\n",
              " 'note_indicator.label',\n",
              " 'note_source',\n",
              " 'note_source.label',\n",
              " 'Unnamed: 30']"
            ]
          },
          "metadata": {
            "tags": []
          },
          "execution_count": 12
        }
      ]
    },
    {
      "cell_type": "markdown",
      "metadata": {
        "id": "prAeURRWljSz",
        "colab_type": "text"
      },
      "source": [
        "Many of the given features are irrelevant to this analysis and need to be dropped. Some countries have values for both \"Senior\" and \"Total\" management --I will remove \"senior\" as many countries do not have that data. "
      ]
    },
    {
      "cell_type": "code",
      "metadata": {
        "id": "M27Cw9yEl7DD",
        "colab_type": "code",
        "colab": {}
      },
      "source": [
        "womenmanage = womenmanage[['classif1','ref_area.label','obs_value']]"
      ],
      "execution_count": 0,
      "outputs": []
    },
    {
      "cell_type": "code",
      "metadata": {
        "id": "8N5fwF6wpGNk",
        "colab_type": "code",
        "colab": {}
      },
      "source": [
        "allmanage = womenmanage['classif1']=='OCU_MGMT_TOTAL'\n",
        "womenmanage = womenmanage[allmanage]"
      ],
      "execution_count": 0,
      "outputs": []
    },
    {
      "cell_type": "code",
      "metadata": {
        "id": "0N6hSYCztRCi",
        "colab_type": "code",
        "colab": {
          "base_uri": "https://localhost:8080/",
          "height": 204
        },
        "outputId": "8413f542-0530-4a95-840e-4eeb33413df6"
      },
      "source": [
        "womenmanage.head(5)"
      ],
      "execution_count": 15,
      "outputs": [
        {
          "output_type": "execute_result",
          "data": {
            "text/html": [
              "<div>\n",
              "<style scoped>\n",
              "    .dataframe tbody tr th:only-of-type {\n",
              "        vertical-align: middle;\n",
              "    }\n",
              "\n",
              "    .dataframe tbody tr th {\n",
              "        vertical-align: top;\n",
              "    }\n",
              "\n",
              "    .dataframe thead th {\n",
              "        text-align: right;\n",
              "    }\n",
              "</style>\n",
              "<table border=\"1\" class=\"dataframe\">\n",
              "  <thead>\n",
              "    <tr style=\"text-align: right;\">\n",
              "      <th></th>\n",
              "      <th>classif1</th>\n",
              "      <th>ref_area.label</th>\n",
              "      <th>obs_value</th>\n",
              "    </tr>\n",
              "  </thead>\n",
              "  <tbody>\n",
              "    <tr>\n",
              "      <th>0</th>\n",
              "      <td>OCU_MGMT_TOTAL</td>\n",
              "      <td>United Arab Emirates</td>\n",
              "      <td>14.6</td>\n",
              "    </tr>\n",
              "    <tr>\n",
              "      <th>1</th>\n",
              "      <td>OCU_MGMT_TOTAL</td>\n",
              "      <td>Armenia</td>\n",
              "      <td>29.5</td>\n",
              "    </tr>\n",
              "    <tr>\n",
              "      <th>2</th>\n",
              "      <td>OCU_MGMT_TOTAL</td>\n",
              "      <td>Australia</td>\n",
              "      <td>36.7</td>\n",
              "    </tr>\n",
              "    <tr>\n",
              "      <th>4</th>\n",
              "      <td>OCU_MGMT_TOTAL</td>\n",
              "      <td>Austria</td>\n",
              "      <td>31.8</td>\n",
              "    </tr>\n",
              "    <tr>\n",
              "      <th>5</th>\n",
              "      <td>OCU_MGMT_TOTAL</td>\n",
              "      <td>Azerbaijan</td>\n",
              "      <td>34.9</td>\n",
              "    </tr>\n",
              "  </tbody>\n",
              "</table>\n",
              "</div>"
            ],
            "text/plain": [
              "         classif1        ref_area.label  obs_value\n",
              "0  OCU_MGMT_TOTAL  United Arab Emirates       14.6\n",
              "1  OCU_MGMT_TOTAL               Armenia       29.5\n",
              "2  OCU_MGMT_TOTAL             Australia       36.7\n",
              "4  OCU_MGMT_TOTAL               Austria       31.8\n",
              "5  OCU_MGMT_TOTAL            Azerbaijan       34.9"
            ]
          },
          "metadata": {
            "tags": []
          },
          "execution_count": 15
        }
      ]
    },
    {
      "cell_type": "code",
      "metadata": {
        "id": "y2dlhR37uL8c",
        "colab_type": "code",
        "colab": {}
      },
      "source": [
        "womenmanage.drop(columns='classif1', inplace=True)\n",
        "womenmanage.rename(columns = {'ref_area.label': 'Country', 'obs_value': 'Female_Managers'}, inplace = True)"
      ],
      "execution_count": 0,
      "outputs": []
    },
    {
      "cell_type": "code",
      "metadata": {
        "id": "ogBKX8iouc1o",
        "colab_type": "code",
        "colab": {
          "base_uri": "https://localhost:8080/",
          "height": 204
        },
        "outputId": "87809ef7-0c46-4484-e7be-8245a5f2c7d5"
      },
      "source": [
        "womenmanage.reset_index(drop=True, inplace=True)\n",
        "womenmanage.head()"
      ],
      "execution_count": 17,
      "outputs": [
        {
          "output_type": "execute_result",
          "data": {
            "text/html": [
              "<div>\n",
              "<style scoped>\n",
              "    .dataframe tbody tr th:only-of-type {\n",
              "        vertical-align: middle;\n",
              "    }\n",
              "\n",
              "    .dataframe tbody tr th {\n",
              "        vertical-align: top;\n",
              "    }\n",
              "\n",
              "    .dataframe thead th {\n",
              "        text-align: right;\n",
              "    }\n",
              "</style>\n",
              "<table border=\"1\" class=\"dataframe\">\n",
              "  <thead>\n",
              "    <tr style=\"text-align: right;\">\n",
              "      <th></th>\n",
              "      <th>Country</th>\n",
              "      <th>Female_Managers</th>\n",
              "    </tr>\n",
              "  </thead>\n",
              "  <tbody>\n",
              "    <tr>\n",
              "      <th>0</th>\n",
              "      <td>United Arab Emirates</td>\n",
              "      <td>14.6</td>\n",
              "    </tr>\n",
              "    <tr>\n",
              "      <th>1</th>\n",
              "      <td>Armenia</td>\n",
              "      <td>29.5</td>\n",
              "    </tr>\n",
              "    <tr>\n",
              "      <th>2</th>\n",
              "      <td>Australia</td>\n",
              "      <td>36.7</td>\n",
              "    </tr>\n",
              "    <tr>\n",
              "      <th>3</th>\n",
              "      <td>Austria</td>\n",
              "      <td>31.8</td>\n",
              "    </tr>\n",
              "    <tr>\n",
              "      <th>4</th>\n",
              "      <td>Azerbaijan</td>\n",
              "      <td>34.9</td>\n",
              "    </tr>\n",
              "  </tbody>\n",
              "</table>\n",
              "</div>"
            ],
            "text/plain": [
              "                Country  Female_Managers\n",
              "0  United Arab Emirates             14.6\n",
              "1               Armenia             29.5\n",
              "2             Australia             36.7\n",
              "3               Austria             31.8\n",
              "4            Azerbaijan             34.9"
            ]
          },
          "metadata": {
            "tags": []
          },
          "execution_count": 17
        }
      ]
    },
    {
      "cell_type": "markdown",
      "metadata": {
        "id": "O7DroxJwzW8r",
        "colab_type": "text"
      },
      "source": [
        "#Exploring the Combined Data\n",
        "\n",
        "Let's merge!"
      ]
    },
    {
      "cell_type": "code",
      "metadata": {
        "id": "abh5GHxNzWiH",
        "colab_type": "code",
        "colab": {}
      },
      "source": [
        "wmnbrgn = pd.merge(bargain, womenmanage, on=\"Country\", sort=True)"
      ],
      "execution_count": 0,
      "outputs": []
    },
    {
      "cell_type": "code",
      "metadata": {
        "id": "3MBApIkM00t7",
        "colab_type": "code",
        "colab": {
          "base_uri": "https://localhost:8080/",
          "height": 948
        },
        "outputId": "ccea7dbb-6346-41df-ce2e-6d2b6e5438ad"
      },
      "source": [
        "wmnbrgn"
      ],
      "execution_count": 19,
      "outputs": [
        {
          "output_type": "execute_result",
          "data": {
            "text/html": [
              "<div>\n",
              "<style scoped>\n",
              "    .dataframe tbody tr th:only-of-type {\n",
              "        vertical-align: middle;\n",
              "    }\n",
              "\n",
              "    .dataframe tbody tr th {\n",
              "        vertical-align: top;\n",
              "    }\n",
              "\n",
              "    .dataframe thead th {\n",
              "        text-align: right;\n",
              "    }\n",
              "</style>\n",
              "<table border=\"1\" class=\"dataframe\">\n",
              "  <thead>\n",
              "    <tr style=\"text-align: right;\">\n",
              "      <th></th>\n",
              "      <th>Country</th>\n",
              "      <th>Time</th>\n",
              "      <th>Coverage</th>\n",
              "      <th>Female_Managers</th>\n",
              "    </tr>\n",
              "  </thead>\n",
              "  <tbody>\n",
              "    <tr>\n",
              "      <th>0</th>\n",
              "      <td>Australia</td>\n",
              "      <td>2016</td>\n",
              "      <td>47.1</td>\n",
              "      <td>36.7</td>\n",
              "    </tr>\n",
              "    <tr>\n",
              "      <th>1</th>\n",
              "      <td>Austria</td>\n",
              "      <td>2016</td>\n",
              "      <td>98.0</td>\n",
              "      <td>31.8</td>\n",
              "    </tr>\n",
              "    <tr>\n",
              "      <th>2</th>\n",
              "      <td>Belgium</td>\n",
              "      <td>2016</td>\n",
              "      <td>96.0</td>\n",
              "      <td>32.7</td>\n",
              "    </tr>\n",
              "    <tr>\n",
              "      <th>3</th>\n",
              "      <td>Bulgaria</td>\n",
              "      <td>2016</td>\n",
              "      <td>10.8</td>\n",
              "      <td>37.9</td>\n",
              "    </tr>\n",
              "    <tr>\n",
              "      <th>4</th>\n",
              "      <td>Chile</td>\n",
              "      <td>2016</td>\n",
              "      <td>17.9</td>\n",
              "      <td>27.4</td>\n",
              "    </tr>\n",
              "    <tr>\n",
              "      <th>5</th>\n",
              "      <td>Costa Rica</td>\n",
              "      <td>2016</td>\n",
              "      <td>10.6</td>\n",
              "      <td>34.6</td>\n",
              "    </tr>\n",
              "    <tr>\n",
              "      <th>6</th>\n",
              "      <td>Croatia</td>\n",
              "      <td>2016</td>\n",
              "      <td>46.7</td>\n",
              "      <td>29.9</td>\n",
              "    </tr>\n",
              "    <tr>\n",
              "      <th>7</th>\n",
              "      <td>El Salvador</td>\n",
              "      <td>2016</td>\n",
              "      <td>5.0</td>\n",
              "      <td>35.3</td>\n",
              "    </tr>\n",
              "    <tr>\n",
              "      <th>8</th>\n",
              "      <td>Germany</td>\n",
              "      <td>2016</td>\n",
              "      <td>56.0</td>\n",
              "      <td>29.3</td>\n",
              "    </tr>\n",
              "    <tr>\n",
              "      <th>9</th>\n",
              "      <td>Greece</td>\n",
              "      <td>2016</td>\n",
              "      <td>17.8</td>\n",
              "      <td>25.5</td>\n",
              "    </tr>\n",
              "    <tr>\n",
              "      <th>10</th>\n",
              "      <td>Iceland</td>\n",
              "      <td>2016</td>\n",
              "      <td>90.0</td>\n",
              "      <td>34.2</td>\n",
              "    </tr>\n",
              "    <tr>\n",
              "      <th>11</th>\n",
              "      <td>Japan</td>\n",
              "      <td>2016</td>\n",
              "      <td>16.7</td>\n",
              "      <td>13.0</td>\n",
              "    </tr>\n",
              "    <tr>\n",
              "      <th>12</th>\n",
              "      <td>Latvia</td>\n",
              "      <td>2016</td>\n",
              "      <td>13.8</td>\n",
              "      <td>47.3</td>\n",
              "    </tr>\n",
              "    <tr>\n",
              "      <th>13</th>\n",
              "      <td>Malaysia</td>\n",
              "      <td>2016</td>\n",
              "      <td>1.3</td>\n",
              "      <td>20.4</td>\n",
              "    </tr>\n",
              "    <tr>\n",
              "      <th>14</th>\n",
              "      <td>Mauritius</td>\n",
              "      <td>2016</td>\n",
              "      <td>0.6</td>\n",
              "      <td>30.6</td>\n",
              "    </tr>\n",
              "    <tr>\n",
              "      <th>15</th>\n",
              "      <td>Mexico</td>\n",
              "      <td>2016</td>\n",
              "      <td>9.9</td>\n",
              "      <td>36.0</td>\n",
              "    </tr>\n",
              "    <tr>\n",
              "      <th>16</th>\n",
              "      <td>Moldova, Republic of</td>\n",
              "      <td>2016</td>\n",
              "      <td>43.0</td>\n",
              "      <td>46.8</td>\n",
              "    </tr>\n",
              "    <tr>\n",
              "      <th>17</th>\n",
              "      <td>Netherlands</td>\n",
              "      <td>2016</td>\n",
              "      <td>78.6</td>\n",
              "      <td>25.4</td>\n",
              "    </tr>\n",
              "    <tr>\n",
              "      <th>18</th>\n",
              "      <td>Panama</td>\n",
              "      <td>2016</td>\n",
              "      <td>1.0</td>\n",
              "      <td>42.5</td>\n",
              "    </tr>\n",
              "    <tr>\n",
              "      <th>19</th>\n",
              "      <td>Peru</td>\n",
              "      <td>2016</td>\n",
              "      <td>4.8</td>\n",
              "      <td>33.3</td>\n",
              "    </tr>\n",
              "    <tr>\n",
              "      <th>20</th>\n",
              "      <td>Slovenia</td>\n",
              "      <td>2016</td>\n",
              "      <td>70.9</td>\n",
              "      <td>40.8</td>\n",
              "    </tr>\n",
              "    <tr>\n",
              "      <th>21</th>\n",
              "      <td>South Africa</td>\n",
              "      <td>2016</td>\n",
              "      <td>29.9</td>\n",
              "      <td>31.6</td>\n",
              "    </tr>\n",
              "    <tr>\n",
              "      <th>22</th>\n",
              "      <td>Spain</td>\n",
              "      <td>2016</td>\n",
              "      <td>73.1</td>\n",
              "      <td>31.2</td>\n",
              "    </tr>\n",
              "    <tr>\n",
              "      <th>23</th>\n",
              "      <td>Sri Lanka</td>\n",
              "      <td>2016</td>\n",
              "      <td>4.8</td>\n",
              "      <td>28.4</td>\n",
              "    </tr>\n",
              "    <tr>\n",
              "      <th>24</th>\n",
              "      <td>Thailand</td>\n",
              "      <td>2016</td>\n",
              "      <td>3.1</td>\n",
              "      <td>32.7</td>\n",
              "    </tr>\n",
              "    <tr>\n",
              "      <th>25</th>\n",
              "      <td>Turkey</td>\n",
              "      <td>2016</td>\n",
              "      <td>5.9</td>\n",
              "      <td>15.1</td>\n",
              "    </tr>\n",
              "    <tr>\n",
              "      <th>26</th>\n",
              "      <td>United Kingdom</td>\n",
              "      <td>2016</td>\n",
              "      <td>26.3</td>\n",
              "      <td>36.0</td>\n",
              "    </tr>\n",
              "    <tr>\n",
              "      <th>27</th>\n",
              "      <td>United States</td>\n",
              "      <td>2016</td>\n",
              "      <td>11.5</td>\n",
              "      <td>39.7</td>\n",
              "    </tr>\n",
              "    <tr>\n",
              "      <th>28</th>\n",
              "      <td>Uruguay</td>\n",
              "      <td>2016</td>\n",
              "      <td>94.6</td>\n",
              "      <td>33.1</td>\n",
              "    </tr>\n",
              "  </tbody>\n",
              "</table>\n",
              "</div>"
            ],
            "text/plain": [
              "                 Country  Time  Coverage  Female_Managers\n",
              "0              Australia  2016      47.1             36.7\n",
              "1                Austria  2016      98.0             31.8\n",
              "2                Belgium  2016      96.0             32.7\n",
              "3               Bulgaria  2016      10.8             37.9\n",
              "4                  Chile  2016      17.9             27.4\n",
              "5             Costa Rica  2016      10.6             34.6\n",
              "6                Croatia  2016      46.7             29.9\n",
              "7            El Salvador  2016       5.0             35.3\n",
              "8                Germany  2016      56.0             29.3\n",
              "9                 Greece  2016      17.8             25.5\n",
              "10               Iceland  2016      90.0             34.2\n",
              "11                 Japan  2016      16.7             13.0\n",
              "12                Latvia  2016      13.8             47.3\n",
              "13              Malaysia  2016       1.3             20.4\n",
              "14             Mauritius  2016       0.6             30.6\n",
              "15                Mexico  2016       9.9             36.0\n",
              "16  Moldova, Republic of  2016      43.0             46.8\n",
              "17           Netherlands  2016      78.6             25.4\n",
              "18                Panama  2016       1.0             42.5\n",
              "19                  Peru  2016       4.8             33.3\n",
              "20              Slovenia  2016      70.9             40.8\n",
              "21          South Africa  2016      29.9             31.6\n",
              "22                 Spain  2016      73.1             31.2\n",
              "23             Sri Lanka  2016       4.8             28.4\n",
              "24              Thailand  2016       3.1             32.7\n",
              "25                Turkey  2016       5.9             15.1\n",
              "26        United Kingdom  2016      26.3             36.0\n",
              "27         United States  2016      11.5             39.7\n",
              "28               Uruguay  2016      94.6             33.1"
            ]
          },
          "metadata": {
            "tags": []
          },
          "execution_count": 19
        }
      ]
    },
    {
      "cell_type": "code",
      "metadata": {
        "id": "i9LiSxit-ILA",
        "colab_type": "code",
        "colab": {
          "base_uri": "https://localhost:8080/",
          "height": 390
        },
        "outputId": "d89ced45-bade-4f55-e9a8-99925f3ae5cf"
      },
      "source": [
        "wmnbrgn.describe(exclude='category')"
      ],
      "execution_count": 20,
      "outputs": [
        {
          "output_type": "execute_result",
          "data": {
            "text/html": [
              "<div>\n",
              "<style scoped>\n",
              "    .dataframe tbody tr th:only-of-type {\n",
              "        vertical-align: middle;\n",
              "    }\n",
              "\n",
              "    .dataframe tbody tr th {\n",
              "        vertical-align: top;\n",
              "    }\n",
              "\n",
              "    .dataframe thead th {\n",
              "        text-align: right;\n",
              "    }\n",
              "</style>\n",
              "<table border=\"1\" class=\"dataframe\">\n",
              "  <thead>\n",
              "    <tr style=\"text-align: right;\">\n",
              "      <th></th>\n",
              "      <th>Country</th>\n",
              "      <th>Time</th>\n",
              "      <th>Coverage</th>\n",
              "      <th>Female_Managers</th>\n",
              "    </tr>\n",
              "  </thead>\n",
              "  <tbody>\n",
              "    <tr>\n",
              "      <th>count</th>\n",
              "      <td>29</td>\n",
              "      <td>29.0</td>\n",
              "      <td>29.000000</td>\n",
              "      <td>29.000000</td>\n",
              "    </tr>\n",
              "    <tr>\n",
              "      <th>unique</th>\n",
              "      <td>29</td>\n",
              "      <td>NaN</td>\n",
              "      <td>NaN</td>\n",
              "      <td>NaN</td>\n",
              "    </tr>\n",
              "    <tr>\n",
              "      <th>top</th>\n",
              "      <td>Bulgaria</td>\n",
              "      <td>NaN</td>\n",
              "      <td>NaN</td>\n",
              "      <td>NaN</td>\n",
              "    </tr>\n",
              "    <tr>\n",
              "      <th>freq</th>\n",
              "      <td>1</td>\n",
              "      <td>NaN</td>\n",
              "      <td>NaN</td>\n",
              "      <td>NaN</td>\n",
              "    </tr>\n",
              "    <tr>\n",
              "      <th>mean</th>\n",
              "      <td>NaN</td>\n",
              "      <td>2016.0</td>\n",
              "      <td>33.989655</td>\n",
              "      <td>32.386207</td>\n",
              "    </tr>\n",
              "    <tr>\n",
              "      <th>std</th>\n",
              "      <td>NaN</td>\n",
              "      <td>0.0</td>\n",
              "      <td>33.577377</td>\n",
              "      <td>7.852785</td>\n",
              "    </tr>\n",
              "    <tr>\n",
              "      <th>min</th>\n",
              "      <td>NaN</td>\n",
              "      <td>2016.0</td>\n",
              "      <td>0.600000</td>\n",
              "      <td>13.000000</td>\n",
              "    </tr>\n",
              "    <tr>\n",
              "      <th>25%</th>\n",
              "      <td>NaN</td>\n",
              "      <td>2016.0</td>\n",
              "      <td>5.900000</td>\n",
              "      <td>29.300000</td>\n",
              "    </tr>\n",
              "    <tr>\n",
              "      <th>50%</th>\n",
              "      <td>NaN</td>\n",
              "      <td>2016.0</td>\n",
              "      <td>17.800000</td>\n",
              "      <td>32.700000</td>\n",
              "    </tr>\n",
              "    <tr>\n",
              "      <th>75%</th>\n",
              "      <td>NaN</td>\n",
              "      <td>2016.0</td>\n",
              "      <td>56.000000</td>\n",
              "      <td>36.000000</td>\n",
              "    </tr>\n",
              "    <tr>\n",
              "      <th>max</th>\n",
              "      <td>NaN</td>\n",
              "      <td>2016.0</td>\n",
              "      <td>98.000000</td>\n",
              "      <td>47.300000</td>\n",
              "    </tr>\n",
              "  </tbody>\n",
              "</table>\n",
              "</div>"
            ],
            "text/plain": [
              "         Country    Time   Coverage  Female_Managers\n",
              "count         29    29.0  29.000000        29.000000\n",
              "unique        29     NaN        NaN              NaN\n",
              "top     Bulgaria     NaN        NaN              NaN\n",
              "freq           1     NaN        NaN              NaN\n",
              "mean         NaN  2016.0  33.989655        32.386207\n",
              "std          NaN     0.0  33.577377         7.852785\n",
              "min          NaN  2016.0   0.600000        13.000000\n",
              "25%          NaN  2016.0   5.900000        29.300000\n",
              "50%          NaN  2016.0  17.800000        32.700000\n",
              "75%          NaN  2016.0  56.000000        36.000000\n",
              "max          NaN  2016.0  98.000000        47.300000"
            ]
          },
          "metadata": {
            "tags": []
          },
          "execution_count": 20
        }
      ]
    },
    {
      "cell_type": "code",
      "metadata": {
        "id": "PWuFST6M_iTo",
        "colab_type": "code",
        "colab": {}
      },
      "source": [
        "Cover = wmnbrgn['Coverage']\n",
        "F_M=wmnbrgn['Female_Managers']"
      ],
      "execution_count": 0,
      "outputs": []
    },
    {
      "cell_type": "code",
      "metadata": {
        "id": "r_hxxTMnBEzq",
        "colab_type": "code",
        "colab": {
          "base_uri": "https://localhost:8080/",
          "height": 114
        },
        "outputId": "d76562bb-32da-4915-d873-6264d8c4e9ed"
      },
      "source": [
        "stats.linregress(Cover, F_M)"
      ],
      "execution_count": 22,
      "outputs": [
        {
          "output_type": "execute_result",
          "data": {
            "text/plain": [
              "LinregressResult(slope=0.016951353292258862, intercept=31.810036243442088, rvalue=0.07248154426052689, pvalue=0.7086663586185833, stderr=0.044890169915453415)"
            ]
          },
          "metadata": {
            "tags": []
          },
          "execution_count": 22
        }
      ]
    },
    {
      "cell_type": "code",
      "metadata": {
        "id": "nCXxfYhLF5d1",
        "colab_type": "code",
        "colab": {
          "base_uri": "https://localhost:8080/",
          "height": 34
        },
        "outputId": "5b08857f-c1b8-4b25-c9ac-04a6f80e4437"
      },
      "source": [
        "stats.pearsonr(Cover, F_M)"
      ],
      "execution_count": 23,
      "outputs": [
        {
          "output_type": "execute_result",
          "data": {
            "text/plain": [
              "(0.07248154426052689, 0.708666358618583)"
            ]
          },
          "metadata": {
            "tags": []
          },
          "execution_count": 23
        }
      ]
    },
    {
      "cell_type": "markdown",
      "metadata": {
        "id": "4ReBDngd2E12",
        "colab_type": "text"
      },
      "source": [
        "Given the distribution of the bargaining coverage observations, a spearman correlation might provide a better test for us."
      ]
    },
    {
      "cell_type": "markdown",
      "metadata": {
        "id": "_3V5aVkA49Qy",
        "colab_type": "text"
      },
      "source": [
        ""
      ]
    },
    {
      "cell_type": "code",
      "metadata": {
        "id": "iaG7F9m3GVRR",
        "colab_type": "code",
        "colab": {
          "base_uri": "https://localhost:8080/",
          "height": 54
        },
        "outputId": "62ea0865-8a53-472c-b425-ad429d817578"
      },
      "source": [
        "stats.spearmanr(Cover, F_M)"
      ],
      "execution_count": 24,
      "outputs": [
        {
          "output_type": "execute_result",
          "data": {
            "text/plain": [
              "SpearmanrResult(correlation=0.0004927929075219425, pvalue=0.9979757431134768)"
            ]
          },
          "metadata": {
            "tags": []
          },
          "execution_count": 24
        }
      ]
    },
    {
      "cell_type": "code",
      "metadata": {
        "id": "T5x6XFa3DdE3",
        "colab_type": "code",
        "colab": {
          "base_uri": "https://localhost:8080/",
          "height": 286
        },
        "outputId": "a66eaaf6-f456-4724-a8cd-125c4fa2c2e2"
      },
      "source": [
        "plt.scatter(Cover, F_M)"
      ],
      "execution_count": 25,
      "outputs": [
        {
          "output_type": "execute_result",
          "data": {
            "text/plain": [
              "<matplotlib.collections.PathCollection at 0x7f362bec0a90>"
            ]
          },
          "metadata": {
            "tags": []
          },
          "execution_count": 25
        },
        {
          "output_type": "display_data",
          "data": {
            "image/png": "[encoded data removed]",
            "text/plain": [
              "<Figure size 432x288 with 1 Axes>"
            ]
          },
          "metadata": {
            "tags": []
          }
        }
      ]
    },
    {
      "cell_type": "markdown",
      "metadata": {
        "id": "hbxgUYtVOISe",
        "colab_type": "text"
      },
      "source": [
        "#If at first you don't find a correlation!\n",
        "\n",
        "There seems to be no correlation between these data! Boring! Let's try for something else. I found numbers for countries' monthly minimum wage (harmonized for $USD) and cleaned the data for our given countries in 2016 once more."
      ]
    },
    {
      "cell_type": "code",
      "metadata": {
        "id": "F29Mc0F_Kud_",
        "colab_type": "code",
        "colab": {}
      },
      "source": [
        "MMW = pd.read_csv(\"MMW.csv\")"
      ],
      "execution_count": 0,
      "outputs": []
    },
    {
      "cell_type": "code",
      "metadata": {
        "id": "7wR2RhS_LdEV",
        "colab_type": "code",
        "colab": {
          "base_uri": "https://localhost:8080/",
          "height": 595
        },
        "outputId": "1a4fa0f0-bded-4c6c-9966-e849ec107b89"
      },
      "source": [
        "MMW.head"
      ],
      "execution_count": 27,
      "outputs": [
        {
          "output_type": "execute_result",
          "data": {
            "text/plain": [
              "<bound method NDFrame.head of             Country  2016\n",
              "0           Albania   177\n",
              "1         Australia  2165\n",
              "2           Belgium  1695\n",
              "3            Brazil   252\n",
              "4          Bulgaria   238\n",
              "5           Croatia   458\n",
              "6    Czech Republic   405\n",
              "7           Estonia   476\n",
              "8            France  1622\n",
              "9           Germany  1593\n",
              "10           Greece   756\n",
              "11          Hungary   394\n",
              "12          Ireland  1711\n",
              "13           Latvia   409\n",
              "14        Lithuania   420\n",
              "15       Luxembourg  2127\n",
              "16         Malaysia   217\n",
              "17            Malta   805\n",
              "18       Montenegro   319\n",
              "19      Netherlands  1700\n",
              "20    New Caledonia  1417\n",
              "21  North Macedonia   261\n",
              "22           Poland   469\n",
              "23         Portugal   684\n",
              "24          Romania   308\n",
              "25           Serbia   255\n",
              "26         Slovakia   448\n",
              "27         Slovenia   875\n",
              "28            Spain   846\n",
              "29             Togo    59\n",
              "30           Turkey   545\n",
              "31   United Kingdom  1611\n",
              "32    United States  1257>"
            ]
          },
          "metadata": {
            "tags": []
          },
          "execution_count": 27
        }
      ]
    },
    {
      "cell_type": "code",
      "metadata": {
        "id": "z7g_2jArMDr6",
        "colab_type": "code",
        "colab": {}
      },
      "source": [
        "WoBaWa = pd.merge(wmnbrgn, MMW, on=\"Country\", sort=True)"
      ],
      "execution_count": 0,
      "outputs": []
    },
    {
      "cell_type": "code",
      "metadata": {
        "id": "pa8era1mMQhH",
        "colab_type": "code",
        "colab": {}
      },
      "source": [
        "WoBaWa.rename(columns = {'2016': \"MnthMnWg\"}, inplace = True)"
      ],
      "execution_count": 0,
      "outputs": []
    },
    {
      "cell_type": "code",
      "metadata": {
        "id": "Ol1rMDA5T2L1",
        "colab_type": "code",
        "colab": {}
      },
      "source": [
        "WoBaWa.drop(columns=\"Time\", inplace=True)"
      ],
      "execution_count": 0,
      "outputs": []
    },
    {
      "cell_type": "code",
      "metadata": {
        "id": "eG74paC2Mg6O",
        "colab_type": "code",
        "colab": {
          "base_uri": "https://localhost:8080/",
          "height": 204
        },
        "outputId": "306848c2-bdba-45c2-b594-cecf0f5678f1"
      },
      "source": [
        "WoBaWa.head()"
      ],
      "execution_count": 31,
      "outputs": [
        {
          "output_type": "execute_result",
          "data": {
            "text/html": [
              "<div>\n",
              "<style scoped>\n",
              "    .dataframe tbody tr th:only-of-type {\n",
              "        vertical-align: middle;\n",
              "    }\n",
              "\n",
              "    .dataframe tbody tr th {\n",
              "        vertical-align: top;\n",
              "    }\n",
              "\n",
              "    .dataframe thead th {\n",
              "        text-align: right;\n",
              "    }\n",
              "</style>\n",
              "<table border=\"1\" class=\"dataframe\">\n",
              "  <thead>\n",
              "    <tr style=\"text-align: right;\">\n",
              "      <th></th>\n",
              "      <th>Country</th>\n",
              "      <th>Coverage</th>\n",
              "      <th>Female_Managers</th>\n",
              "      <th>MnthMnWg</th>\n",
              "    </tr>\n",
              "  </thead>\n",
              "  <tbody>\n",
              "    <tr>\n",
              "      <th>0</th>\n",
              "      <td>Australia</td>\n",
              "      <td>47.1</td>\n",
              "      <td>36.7</td>\n",
              "      <td>2165</td>\n",
              "    </tr>\n",
              "    <tr>\n",
              "      <th>1</th>\n",
              "      <td>Belgium</td>\n",
              "      <td>96.0</td>\n",
              "      <td>32.7</td>\n",
              "      <td>1695</td>\n",
              "    </tr>\n",
              "    <tr>\n",
              "      <th>2</th>\n",
              "      <td>Bulgaria</td>\n",
              "      <td>10.8</td>\n",
              "      <td>37.9</td>\n",
              "      <td>238</td>\n",
              "    </tr>\n",
              "    <tr>\n",
              "      <th>3</th>\n",
              "      <td>Croatia</td>\n",
              "      <td>46.7</td>\n",
              "      <td>29.9</td>\n",
              "      <td>458</td>\n",
              "    </tr>\n",
              "    <tr>\n",
              "      <th>4</th>\n",
              "      <td>Germany</td>\n",
              "      <td>56.0</td>\n",
              "      <td>29.3</td>\n",
              "      <td>1593</td>\n",
              "    </tr>\n",
              "  </tbody>\n",
              "</table>\n",
              "</div>"
            ],
            "text/plain": [
              "     Country  Coverage  Female_Managers  MnthMnWg\n",
              "0  Australia      47.1             36.7      2165\n",
              "1    Belgium      96.0             32.7      1695\n",
              "2   Bulgaria      10.8             37.9       238\n",
              "3    Croatia      46.7             29.9       458\n",
              "4    Germany      56.0             29.3      1593"
            ]
          },
          "metadata": {
            "tags": []
          },
          "execution_count": 31
        }
      ]
    },
    {
      "cell_type": "code",
      "metadata": {
        "id": "UBURHW8oMmE-",
        "colab_type": "code",
        "colab": {}
      },
      "source": [
        "MMW = WoBaWa['MnthMnWg']"
      ],
      "execution_count": 0,
      "outputs": []
    },
    {
      "cell_type": "code",
      "metadata": {
        "id": "csI_4nnDMuOs",
        "colab_type": "code",
        "colab": {
          "base_uri": "https://localhost:8080/",
          "height": 34
        },
        "outputId": "63deb0bd-dae7-4078-eeb0-a5a06fee0809"
      },
      "source": [
        "stats.pearsonr(WoBaWa[\"Female_Managers\"], WoBaWa[\"MnthMnWg\"])"
      ],
      "execution_count": 33,
      "outputs": [
        {
          "output_type": "execute_result",
          "data": {
            "text/plain": [
              "(0.12863424226400633, 0.6611977527443272)"
            ]
          },
          "metadata": {
            "tags": []
          },
          "execution_count": 33
        }
      ]
    },
    {
      "cell_type": "code",
      "metadata": {
        "id": "Izvo2PisNGpx",
        "colab_type": "code",
        "colab": {
          "base_uri": "https://localhost:8080/",
          "height": 286
        },
        "outputId": "74bcc770-713e-468d-9833-fe03f990924a"
      },
      "source": [
        "plt.scatter(WoBaWa[\"Female_Managers\"], WoBaWa[\"MnthMnWg\"])"
      ],
      "execution_count": 34,
      "outputs": [
        {
          "output_type": "execute_result",
          "data": {
            "text/plain": [
              "<matplotlib.collections.PathCollection at 0x7f362965ae80>"
            ]
          },
          "metadata": {
            "tags": []
          },
          "execution_count": 34
        },
        {
          "output_type": "display_data",
          "data": {
            "image/png": "[encoded data removed]",
            "text/plain": [
              "<Figure size 432x288 with 1 Axes>"
            ]
          },
          "metadata": {
            "tags": []
          }
        }
      ]
    },
    {
      "cell_type": "code",
      "metadata": {
        "id": "64JKxORxNQ5Y",
        "colab_type": "code",
        "colab": {
          "base_uri": "https://localhost:8080/",
          "height": 114
        },
        "outputId": "b6099152-708c-4742-aa3c-4c8865e1b92b"
      },
      "source": [
        "stats.linregress(WoBaWa[\"Female_Managers\"], WoBaWa[\"MnthMnWg\"])"
      ],
      "execution_count": 35,
      "outputs": [
        {
          "output_type": "execute_result",
          "data": {
            "text/plain": [
              "LinregressResult(slope=9.504133825983784, intercept=722.0070328101332, rvalue=0.12863424226400635, pvalue=0.6611977527443269, stderr=21.151549265263796)"
            ]
          },
          "metadata": {
            "tags": []
          },
          "execution_count": 35
        }
      ]
    },
    {
      "cell_type": "markdown",
      "metadata": {
        "id": "8w3h0A6vPYKT",
        "colab_type": "text"
      },
      "source": [
        "#If at second you don't find a correlation!\n",
        "\n",
        "The correlation here is slightly stronger, but the p-value still suggests insignificance. I will not rest until we find something interesting! Let's try again.\n",
        "The following shows # of women in finance by the thousand per country in 2016."
      ]
    },
    {
      "cell_type": "code",
      "metadata": {
        "id": "XKnCTGPES_77",
        "colab_type": "code",
        "colab": {}
      },
      "source": [
        "wif = pd.read_csv(\"Women in finance.csv\")"
      ],
      "execution_count": 0,
      "outputs": []
    },
    {
      "cell_type": "code",
      "metadata": {
        "id": "9RlR2Am8TI-w",
        "colab_type": "code",
        "colab": {}
      },
      "source": [
        "WoBaWaFi = pd.merge(WoBaWa, wif, on=\"Country\", sort=True)"
      ],
      "execution_count": 0,
      "outputs": []
    },
    {
      "cell_type": "code",
      "metadata": {
        "id": "GwQNYLkfTe-w",
        "colab_type": "code",
        "colab": {
          "base_uri": "https://localhost:8080/",
          "height": 204
        },
        "outputId": "3f4de86b-7365-40e4-9d87-20fe2baecb8e"
      },
      "source": [
        "WoBaWaFi.head(5)"
      ],
      "execution_count": 38,
      "outputs": [
        {
          "output_type": "execute_result",
          "data": {
            "text/html": [
              "<div>\n",
              "<style scoped>\n",
              "    .dataframe tbody tr th:only-of-type {\n",
              "        vertical-align: middle;\n",
              "    }\n",
              "\n",
              "    .dataframe tbody tr th {\n",
              "        vertical-align: top;\n",
              "    }\n",
              "\n",
              "    .dataframe thead th {\n",
              "        text-align: right;\n",
              "    }\n",
              "</style>\n",
              "<table border=\"1\" class=\"dataframe\">\n",
              "  <thead>\n",
              "    <tr style=\"text-align: right;\">\n",
              "      <th></th>\n",
              "      <th>Country</th>\n",
              "      <th>Coverage</th>\n",
              "      <th>Female_Managers</th>\n",
              "      <th>MnthMnWg</th>\n",
              "      <th>Wmn_Finance_Thousands</th>\n",
              "    </tr>\n",
              "  </thead>\n",
              "  <tbody>\n",
              "    <tr>\n",
              "      <th>0</th>\n",
              "      <td>Australia</td>\n",
              "      <td>47.1</td>\n",
              "      <td>36.7</td>\n",
              "      <td>2165</td>\n",
              "      <td>211.0</td>\n",
              "    </tr>\n",
              "    <tr>\n",
              "      <th>1</th>\n",
              "      <td>Belgium</td>\n",
              "      <td>96.0</td>\n",
              "      <td>32.7</td>\n",
              "      <td>1695</td>\n",
              "      <td>61.0</td>\n",
              "    </tr>\n",
              "    <tr>\n",
              "      <th>2</th>\n",
              "      <td>Bulgaria</td>\n",
              "      <td>10.8</td>\n",
              "      <td>37.9</td>\n",
              "      <td>238</td>\n",
              "      <td>39.0</td>\n",
              "    </tr>\n",
              "    <tr>\n",
              "      <th>3</th>\n",
              "      <td>Croatia</td>\n",
              "      <td>46.7</td>\n",
              "      <td>29.9</td>\n",
              "      <td>458</td>\n",
              "      <td>25.0</td>\n",
              "    </tr>\n",
              "    <tr>\n",
              "      <th>4</th>\n",
              "      <td>Germany</td>\n",
              "      <td>56.0</td>\n",
              "      <td>29.3</td>\n",
              "      <td>1593</td>\n",
              "      <td>627.0</td>\n",
              "    </tr>\n",
              "  </tbody>\n",
              "</table>\n",
              "</div>"
            ],
            "text/plain": [
              "     Country  Coverage  Female_Managers  MnthMnWg  Wmn_Finance_Thousands\n",
              "0  Australia      47.1             36.7      2165                  211.0\n",
              "1    Belgium      96.0             32.7      1695                   61.0\n",
              "2   Bulgaria      10.8             37.9       238                   39.0\n",
              "3    Croatia      46.7             29.9       458                   25.0\n",
              "4    Germany      56.0             29.3      1593                  627.0"
            ]
          },
          "metadata": {
            "tags": []
          },
          "execution_count": 38
        }
      ]
    },
    {
      "cell_type": "code",
      "metadata": {
        "id": "_3tiiChCUWah",
        "colab_type": "code",
        "colab": {
          "base_uri": "https://localhost:8080/",
          "height": 34
        },
        "outputId": "13be31d6-af4a-415e-865c-c3f0766cc4bd"
      },
      "source": [
        "stats.pearsonr(WoBaWaFi[\"Female_Managers\"], WoBaWaFi[\"Wmn_Finance_Thousands\"])"
      ],
      "execution_count": 39,
      "outputs": [
        {
          "output_type": "execute_result",
          "data": {
            "text/plain": [
              "(0.15147415544108156, 0.5616867028670174)"
            ]
          },
          "metadata": {
            "tags": []
          },
          "execution_count": 39
        }
      ]
    },
    {
      "cell_type": "code",
      "metadata": {
        "id": "AsBm0ePvUm4e",
        "colab_type": "code",
        "colab": {
          "base_uri": "https://localhost:8080/",
          "height": 286
        },
        "outputId": "36937b97-94e6-4fc6-b49e-2ccc8c9d53db"
      },
      "source": [
        "plt.scatter(WoBaWaFi[\"Female_Managers\"], WoBaWaFi[\"Wmn_Finance_Thousands\"])"
      ],
      "execution_count": 40,
      "outputs": [
        {
          "output_type": "execute_result",
          "data": {
            "text/plain": [
              "<matplotlib.collections.PathCollection at 0x7f36295d44e0>"
            ]
          },
          "metadata": {
            "tags": []
          },
          "execution_count": 40
        },
        {
          "output_type": "display_data",
          "data": {
            "image/png": "[encoded data removed]",
            "text/plain": [
              "<Figure size 432x288 with 1 Axes>"
            ]
          },
          "metadata": {
            "tags": []
          }
        }
      ]
    },
    {
      "cell_type": "markdown",
      "metadata": {
        "id": "Mriv4WZA28iP",
        "colab_type": "text"
      },
      "source": [
        "#Please for the love of Data give me a correlation.\n",
        "\n",
        "Thankfully it's not the destination but the journey that counts! I have another relationship we might test. This time, I downloaded the \"low pay\" indicator from the ILO for women. This refers to the percentage of women whose hourly earnings at all jobs were less than two-thirds of median hourly earnings. In other words, it's the percentage of working women who are being underpaid (per country, 2016). "
      ]
    },
    {
      "cell_type": "code",
      "metadata": {
        "id": "AOgFzsH1WzHJ",
        "colab_type": "code",
        "colab": {}
      },
      "source": [
        "low_pay = pd.read_csv(\"Low pay.csv\")"
      ],
      "execution_count": 0,
      "outputs": []
    },
    {
      "cell_type": "code",
      "metadata": {
        "id": "sktAXMeWeaf7",
        "colab_type": "code",
        "colab": {
          "base_uri": "https://localhost:8080/",
          "height": 700
        },
        "outputId": "67e8d9bb-a809-441e-8574-284cc12f22ae"
      },
      "source": [
        "low_pay"
      ],
      "execution_count": 55,
      "outputs": [
        {
          "output_type": "execute_result",
          "data": {
            "text/html": [
              "<div>\n",
              "<style scoped>\n",
              "    .dataframe tbody tr th:only-of-type {\n",
              "        vertical-align: middle;\n",
              "    }\n",
              "\n",
              "    .dataframe tbody tr th {\n",
              "        vertical-align: top;\n",
              "    }\n",
              "\n",
              "    .dataframe thead th {\n",
              "        text-align: right;\n",
              "    }\n",
              "</style>\n",
              "<table border=\"1\" class=\"dataframe\">\n",
              "  <thead>\n",
              "    <tr style=\"text-align: right;\">\n",
              "      <th></th>\n",
              "      <th>Country</th>\n",
              "      <th>Wmn Low Pay Rate</th>\n",
              "    </tr>\n",
              "  </thead>\n",
              "  <tbody>\n",
              "    <tr>\n",
              "      <th>0</th>\n",
              "      <td>Australia</td>\n",
              "      <td>19.6</td>\n",
              "    </tr>\n",
              "    <tr>\n",
              "      <th>1</th>\n",
              "      <td>Austria</td>\n",
              "      <td>24.4</td>\n",
              "    </tr>\n",
              "    <tr>\n",
              "      <th>2</th>\n",
              "      <td>Belgium</td>\n",
              "      <td>5.4</td>\n",
              "    </tr>\n",
              "    <tr>\n",
              "      <th>3</th>\n",
              "      <td>Canada</td>\n",
              "      <td>20.8</td>\n",
              "    </tr>\n",
              "    <tr>\n",
              "      <th>4</th>\n",
              "      <td>Costa Rica</td>\n",
              "      <td>3.4</td>\n",
              "    </tr>\n",
              "    <tr>\n",
              "      <th>5</th>\n",
              "      <td>Czech Republic</td>\n",
              "      <td>25.4</td>\n",
              "    </tr>\n",
              "    <tr>\n",
              "      <th>6</th>\n",
              "      <td>Dominican Republic</td>\n",
              "      <td>23.6</td>\n",
              "    </tr>\n",
              "    <tr>\n",
              "      <th>7</th>\n",
              "      <td>Finland</td>\n",
              "      <td>9.6</td>\n",
              "    </tr>\n",
              "    <tr>\n",
              "      <th>8</th>\n",
              "      <td>Hungary</td>\n",
              "      <td>21.1</td>\n",
              "    </tr>\n",
              "    <tr>\n",
              "      <th>9</th>\n",
              "      <td>Japan</td>\n",
              "      <td>22.8</td>\n",
              "    </tr>\n",
              "    <tr>\n",
              "      <th>10</th>\n",
              "      <td>Korea, Republic of</td>\n",
              "      <td>37.2</td>\n",
              "    </tr>\n",
              "    <tr>\n",
              "      <th>11</th>\n",
              "      <td>Maldives</td>\n",
              "      <td>62.0</td>\n",
              "    </tr>\n",
              "    <tr>\n",
              "      <th>12</th>\n",
              "      <td>Mali</td>\n",
              "      <td>47.6</td>\n",
              "    </tr>\n",
              "    <tr>\n",
              "      <th>13</th>\n",
              "      <td>Mexico</td>\n",
              "      <td>21.7</td>\n",
              "    </tr>\n",
              "    <tr>\n",
              "      <th>14</th>\n",
              "      <td>Mongolia</td>\n",
              "      <td>20.3</td>\n",
              "    </tr>\n",
              "    <tr>\n",
              "      <th>15</th>\n",
              "      <td>New Zealand</td>\n",
              "      <td>13.2</td>\n",
              "    </tr>\n",
              "    <tr>\n",
              "      <th>16</th>\n",
              "      <td>Philippines</td>\n",
              "      <td>29.4</td>\n",
              "    </tr>\n",
              "    <tr>\n",
              "      <th>17</th>\n",
              "      <td>Poland</td>\n",
              "      <td>22.6</td>\n",
              "    </tr>\n",
              "    <tr>\n",
              "      <th>18</th>\n",
              "      <td>Slovakia</td>\n",
              "      <td>22.0</td>\n",
              "    </tr>\n",
              "    <tr>\n",
              "      <th>19</th>\n",
              "      <td>Thailand</td>\n",
              "      <td>0.1</td>\n",
              "    </tr>\n",
              "    <tr>\n",
              "      <th>20</th>\n",
              "      <td>United Kingdom</td>\n",
              "      <td>25.9</td>\n",
              "    </tr>\n",
              "  </tbody>\n",
              "</table>\n",
              "</div>"
            ],
            "text/plain": [
              "               Country  Wmn Low Pay Rate\n",
              "0            Australia              19.6\n",
              "1              Austria              24.4\n",
              "2              Belgium               5.4\n",
              "3               Canada              20.8\n",
              "4           Costa Rica               3.4\n",
              "5       Czech Republic              25.4\n",
              "6   Dominican Republic              23.6\n",
              "7              Finland               9.6\n",
              "8              Hungary              21.1\n",
              "9                Japan              22.8\n",
              "10  Korea, Republic of              37.2\n",
              "11            Maldives              62.0\n",
              "12                Mali              47.6\n",
              "13              Mexico              21.7\n",
              "14            Mongolia              20.3\n",
              "15         New Zealand              13.2\n",
              "16         Philippines              29.4\n",
              "17              Poland              22.6\n",
              "18            Slovakia              22.0\n",
              "19            Thailand               0.1\n",
              "20      United Kingdom              25.9"
            ]
          },
          "metadata": {
            "tags": []
          },
          "execution_count": 55
        }
      ]
    },
    {
      "cell_type": "code",
      "metadata": {
        "id": "Qffpr0j7W5DY",
        "colab_type": "code",
        "colab": {}
      },
      "source": [
        "women_work = pd.merge(womenmanage, low_pay, on=\"Country\", sort=True)"
      ],
      "execution_count": 0,
      "outputs": []
    },
    {
      "cell_type": "code",
      "metadata": {
        "colab_type": "code",
        "outputId": "fc9654ef-0f54-4f48-8b02-781b252ee3a9",
        "id": "LuJo57qDbzSL",
        "colab": {
          "base_uri": "https://localhost:8080/",
          "height": 343
        }
      },
      "source": [
        "women_work.head"
      ],
      "execution_count": 57,
      "outputs": [
        {
          "output_type": "execute_result",
          "data": {
            "text/plain": [
              "<bound method NDFrame.head of                Country  Female_Managers  Wmn Low Pay Rate\n",
              "0            Australia             36.7              19.6\n",
              "1              Austria             31.8              24.4\n",
              "2              Belgium             32.7               5.4\n",
              "3           Costa Rica             34.6               3.4\n",
              "4       Czech Republic             25.4              25.4\n",
              "5   Dominican Republic             36.6              23.6\n",
              "6              Finland             34.1               9.6\n",
              "7              Hungary             39.4              21.1\n",
              "8                Japan             13.0              22.8\n",
              "9   Korea, Republic of              9.8              37.2\n",
              "10            Maldives             19.6              62.0\n",
              "11              Mexico             36.0              21.7\n",
              "12            Mongolia             40.8              20.3\n",
              "13              Poland             41.2              22.6\n",
              "14            Slovakia             35.0              22.0\n",
              "15            Thailand             32.7               0.1\n",
              "16      United Kingdom             36.0              25.9>"
            ]
          },
          "metadata": {
            "tags": []
          },
          "execution_count": 57
        }
      ]
    },
    {
      "cell_type": "code",
      "metadata": {
        "id": "9xL_iY6FZP9F",
        "colab_type": "code",
        "colab": {
          "base_uri": "https://localhost:8080/",
          "height": 34
        },
        "outputId": "d0d1f206-a71d-452d-b464-9321609740d0"
      },
      "source": [
        "stats.pearsonr(women_work[\"Wmn Low Pay Rate\"], women_work[\"Female_Managers\"])"
      ],
      "execution_count": 58,
      "outputs": [
        {
          "output_type": "execute_result",
          "data": {
            "text/plain": [
              "(-0.4760472761551561, 0.05340343844798568)"
            ]
          },
          "metadata": {
            "tags": []
          },
          "execution_count": 58
        }
      ]
    },
    {
      "cell_type": "markdown",
      "metadata": {
        "id": "QGephF3B3kZZ",
        "colab_type": "text"
      },
      "source": [
        "I will take it! There seems to be a moderate, negative relationship between these two features. The p-value is so very close to being less than .05! I wonder if we would find more significant with a larger data-set. Anywho, let's visualize! "
      ]
    },
    {
      "cell_type": "code",
      "metadata": {
        "id": "CgRme0rxeWU1",
        "colab_type": "code",
        "colab": {
          "base_uri": "https://localhost:8080/",
          "height": 300
        },
        "outputId": "df9b12ac-85ca-4f18-9f5b-fea11b4e7672"
      },
      "source": [
        "plt.scatter(women_work[\"Wmn Low Pay Rate\"], women_work[\"Female_Managers\"])\n",
        "countries = women_work[\"Country\"]\n",
        "plt.xlabel('% Working Women Underpaid')\n",
        "plt.ylabel('Female Managers')"
      ],
      "execution_count": 83,
      "outputs": [
        {
          "output_type": "execute_result",
          "data": {
            "text/plain": [
              "Text(0, 0.5, 'Female Managers')"
            ]
          },
          "metadata": {
            "tags": []
          },
          "execution_count": 83
        },
        {
          "output_type": "display_data",
          "data": {
            "image/png": "[encoded data removed]",
            "text/plain": [
              "<Figure size 432x288 with 1 Axes>"
            ]
          },
          "metadata": {
            "tags": []
          }
        }
      ]
    },
    {
      "cell_type": "code",
      "metadata": {
        "id": "S2RrWiMSspUF",
        "colab_type": "code",
        "colab": {
          "base_uri": "https://localhost:8080/",
          "height": 312
        },
        "outputId": "9838dd0d-d833-43d0-d983-0529c960c88e"
      },
      "source": [
        "sns.regplot(women_work[\"Wmn Low Pay Rate\"], women_work[\"Female_Managers\"], color =\"indigo\")\n",
        "plt.xlabel('% Working Women Underpaid')\n",
        "plt.ylabel('Female Managers')\n",
        "plt.title(\"Women in the Global Workforce\")"
      ],
      "execution_count": 95,
      "outputs": [
        {
          "output_type": "execute_result",
          "data": {
            "text/plain": [
              "Text(0.5, 1.0, 'Women in the Global Workforce')"
            ]
          },
          "metadata": {
            "tags": []
          },
          "execution_count": 95
        },
        {
          "output_type": "display_data",
          "data": {
            "image/png": "[encoded data removed]",
            "text/plain": [
              "<Figure size 432x288 with 1 Axes>"
            ]
          },
          "metadata": {
            "tags": []
          }
        }
      ]
    },
    {
      "cell_type": "markdown",
      "metadata": {
        "id": "r-9vkkaU5rCY",
        "colab_type": "text"
      },
      "source": [
        "#Victory!"
      ]
    },
    {
      "cell_type": "markdown",
      "metadata": {
        "id": "6vJSBGR9fc5n",
        "colab_type": "text"
      },
      "source": [
        "This helps us see the negative relationship between the share of women underpaid in a country and the number of female managers in a country: it looks like the more women in managerial positions, the less likely it is women will be underpaid in a country (in 2016, at least!)."
      ]
    }
  ]
}